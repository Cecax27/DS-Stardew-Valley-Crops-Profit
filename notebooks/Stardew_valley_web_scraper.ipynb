{
  "nbformat": 4,
  "nbformat_minor": 0,
  "metadata": {
    "colab": {
      "provenance": [],
      "authorship_tag": "ABX9TyOvMDhKRYpefC99ymkyTUJb",
      "include_colab_link": true
    },
    "kernelspec": {
      "name": "python3",
      "display_name": "Python 3"
    },
    "language_info": {
      "name": "python"
    }
  },
  "cells": [
    {
      "cell_type": "markdown",
      "metadata": {
        "id": "view-in-github",
        "colab_type": "text"
      },
      "source": [
        "<a href=\"https://colab.research.google.com/github/Cecax27/DS-Stardew-Valley-Crops-Profit/blob/main/notebooks/Stardew_valley_web_scraper.ipynb\" target=\"_parent\"><img src=\"https://colab.research.google.com/assets/colab-badge.svg\" alt=\"Open In Colab\"/></a>"
      ]
    },
    {
      "cell_type": "markdown",
      "source": [
        "**Web Scraper on Stardew Valley wiki**\n",
        "\n",
        "Im going to do web scraping with Python on Stardew Valley Wiki to extract information about crops, and then make an analysis over the recolected data"
      ],
      "metadata": {
        "id": "Hu9Ot_ZvI-TD"
      }
    },
    {
      "cell_type": "code",
      "execution_count": null,
      "metadata": {
        "id": "uyy0n8B6GoY0"
      },
      "outputs": [],
      "source": [
        "import requests\n",
        "from bs4 import BeautifulSoup\n",
        "import pandas as pd\n",
        "import numpy as np"
      ]
    },
    {
      "cell_type": "code",
      "source": [
        "home_url = 'https://stardewvalleywiki.com'"
      ],
      "metadata": {
        "id": "2GHdP9dL7pT_"
      },
      "execution_count": null,
      "outputs": []
    },
    {
      "cell_type": "code",
      "source": [
        "url = 'https://stardewvalleywiki.com/Crops'"
      ],
      "metadata": {
        "id": "hYXf6nyXHJhR"
      },
      "execution_count": null,
      "outputs": []
    },
    {
      "cell_type": "markdown",
      "source": [
        "*Making the request.*"
      ],
      "metadata": {
        "id": "A36oqlPxJRVX"
      }
    },
    {
      "cell_type": "code",
      "source": [
        "wiki = requests.get(url)"
      ],
      "metadata": {
        "id": "E66wbo5eHOZ5"
      },
      "execution_count": null,
      "outputs": []
    },
    {
      "cell_type": "markdown",
      "source": [
        "## Parse HTML"
      ],
      "metadata": {
        "id": "9kPFcmo6KTPr"
      }
    },
    {
      "cell_type": "code",
      "source": [
        "s = BeautifulSoup(wiki.text, 'lxml')"
      ],
      "metadata": {
        "id": "fcM5VosiKXWs"
      },
      "execution_count": null,
      "outputs": []
    },
    {
      "cell_type": "markdown",
      "source": [
        "## Finding the urls"
      ],
      "metadata": {
        "id": "51krRo4ks8BD"
      }
    },
    {
      "cell_type": "code",
      "source": [
        "crops_names = s.find('div', attrs = {'class' : 'mw-parser-output'}).find_all('h3')[10:-1]"
      ],
      "metadata": {
        "id": "LpV-9ZdCs9vz"
      },
      "execution_count": null,
      "outputs": []
    },
    {
      "cell_type": "markdown",
      "source": [
        "Making a list with all the links"
      ],
      "metadata": {
        "id": "iAvQSpcsqrHh"
      }
    },
    {
      "cell_type": "code",
      "source": [
        "crops_link_list = [home_url + crop_name.find_all('a')[1].get('href') for crop_name in crops_names]"
      ],
      "metadata": {
        "id": "ylyqgBGb7MsU"
      },
      "execution_count": null,
      "outputs": []
    },
    {
      "cell_type": "code",
      "source": [
        "crops_link_list[0:5]"
      ],
      "metadata": {
        "colab": {
          "base_uri": "https://localhost:8080/"
        },
        "id": "uWKdbUGL71zF",
        "outputId": "17002605-e918-48df-f3c4-a65df12c185a"
      },
      "execution_count": null,
      "outputs": [
        {
          "output_type": "execute_result",
          "data": {
            "text/plain": [
              "['https://stardewvalleywiki.com/Blue_Jazz',\n",
              " 'https://stardewvalleywiki.com/Cauliflower',\n",
              " 'https://stardewvalleywiki.com/Coffee_Bean',\n",
              " 'https://stardewvalleywiki.com/Garlic',\n",
              " 'https://stardewvalleywiki.com/Green_Bean']"
            ]
          },
          "metadata": {},
          "execution_count": 9
        }
      ]
    },
    {
      "cell_type": "code",
      "source": [
        "crops_names_list = [crop_name.get_text().strip() for crop_name in crops_names]"
      ],
      "metadata": {
        "id": "4yK8xNoz6pJd"
      },
      "execution_count": null,
      "outputs": []
    },
    {
      "cell_type": "markdown",
      "source": [
        "Making all the requests"
      ],
      "metadata": {
        "id": "SB4DRDonqz8S"
      }
    },
    {
      "cell_type": "code",
      "source": [
        "crops_soup = [BeautifulSoup(requests.get(link).text, 'lxml') for link in crops_link_list]"
      ],
      "metadata": {
        "id": "WSYsVF1g8JHd"
      },
      "execution_count": null,
      "outputs": []
    },
    {
      "cell_type": "markdown",
      "source": [
        "Function to extract the data from each request"
      ],
      "metadata": {
        "id": "ZQJzdFhErJGc"
      }
    },
    {
      "cell_type": "code",
      "source": [
        "# Function to extract information about the seed\n",
        "\n",
        "def get_seed_information(link):\n",
        "  try:\n",
        "    s = requests.get(link)\n",
        "  except Exception as e:\n",
        "    return e\n",
        "  raw_information = BeautifulSoup(s.text, 'lxml')\n",
        "  price_dict = dict()\n",
        "  for row in raw_information.find('table').find_all('tr'):\n",
        "    title = row.find('td').get_text().strip().replace(':', '').lower().replace(' ', '_')\n",
        "    if title == 'general_store':\n",
        "      try:\n",
        "        price_dict[title+'_price'] = int(row.find_all('td')[1].find_all('span')[1].get_text()[:-1])\n",
        "      except:\n",
        "        price_dict[title+'_price'] = np.nan\n",
        "    elif title == 'jojamart':\n",
        "      try:\n",
        "        price_dict[title+'_price'] = int(row.find_all('td')[1].find_all('span')[1].get_text()[:-1])\n",
        "      except:\n",
        "        price_dict[title+'_price'] = np.nan\n",
        "    elif title == 'oasis':\n",
        "      price_dict[title+'_price'] = int(row.find_all('td')[1].find_all('span')[1].get_text()[:-1])\n",
        "    elif title == 'traveling_cart':\n",
        "      price_dict[title+'_price_min'] = int(row.find_all('td')[1].get_text().split('\"')[-1].split('g')[0].replace(',','').split('–')[0])\n",
        "      price_dict[title+'_price_max'] = int(row.find_all('td')[1].get_text().split('\"')[-1].split('g')[0].replace(',','').split('–')[1])\n",
        "    elif title == 'night_market(winter_15)':\n",
        "      price_dict[title.split('(')[0]+'_price'] = int(row.find_all('td')[1].find_all('span')[1].get_text()[:-1])\n",
        "  return price_dict"
      ],
      "metadata": {
        "id": "KUphWuyLrqpo"
      },
      "execution_count": null,
      "outputs": []
    },
    {
      "cell_type": "code",
      "source": [
        "# Testing\n",
        "print(get_seed_information('https://stardewvalleywiki.com/Starfruit_Seeds'))"
      ],
      "metadata": {
        "colab": {
          "base_uri": "https://localhost:8080/"
        },
        "id": "LcVb7KgVsOFp",
        "outputId": "7cbd6367-bcb4-4040-943a-a799a6049610"
      },
      "execution_count": null,
      "outputs": [
        {
          "output_type": "stream",
          "name": "stdout",
          "text": [
            "{'general_store_price': nan, 'jojamart_price': nan, 'oasis_price': 400, 'traveling_cart_price_min': 600, 'traveling_cart_price_max': 1000}\n"
          ]
        }
      ]
    },
    {
      "cell_type": "code",
      "source": [
        "def get_crop(raw_information):\n",
        "  prices_sufix = ['regular', 'silver', 'gold', 'iridium']\n",
        "  inf_dict = {\n",
        "      'name' : raw_information[0].get_text().strip(),\n",
        "      'description' : raw_information[2].get_text().strip()\n",
        "  }\n",
        "\n",
        "  for data in raw_information[4:]:\n",
        "    field = data.find('td').get_text().strip().lower().replace(' ', '_')\n",
        "    if '\\t' in field or ':' in field or '/' in field or field == '' or field[0].isdigit():\n",
        "      continue\n",
        "    if field == 'sell_price' or field == 'sell_prices':\n",
        "      try:\n",
        "        prices = data.find('table').find_all('td')\n",
        "        prices = list(map(lambda i: i.get_text().split('g')[0], prices))[1:]\n",
        "        prices = list(filter(lambda i: i != '', prices))\n",
        "        prices = list(map(lambda i: int(i), prices))\n",
        "        for index, price in enumerate(prices):\n",
        "          inf_dict[field+'_'+prices_sufix[index]] = price\n",
        "        continue\n",
        "      except Exception as e:\n",
        "        try:\n",
        "          index = raw_information.index(data) + 2\n",
        "          prices = raw_information[index].find('table').find_all('td')\n",
        "          prices = list(map(lambda i: i.get_text().split('g')[0].replace(',',''), prices))[1:]\n",
        "          prices = list(filter(lambda i: i != '', prices))\n",
        "          prices = list(map(lambda i: int(i), prices))\n",
        "          for index, price in enumerate(prices):\n",
        "            inf_dict[field+'_'+prices_sufix[index]] = price\n",
        "          continue\n",
        "        except Exception as e:\n",
        "          print(e)\n",
        "        continue\n",
        "    if field == 'seed':\n",
        "      try:\n",
        "        url = home_url + data.find_all('td')[1].find('a').get('href')\n",
        "        inf_dict.update(get_seed_information(url))\n",
        "      except Exception as e:\n",
        "        pass\n",
        "    try:\n",
        "      inf_dict[field] = data.find_all('td')[1].get_text().strip().replace(' • ', ',')\n",
        "    except:\n",
        "      pass\n",
        "\n",
        "  return inf_dict"
      ],
      "metadata": {
        "id": "9H2Jf8TX-yz1"
      },
      "execution_count": null,
      "outputs": []
    },
    {
      "cell_type": "code",
      "source": [
        "# Testing\n",
        "\n",
        "get_crop(crops_soup[0].find('table').find_all('tr'))"
      ],
      "metadata": {
        "colab": {
          "base_uri": "https://localhost:8080/"
        },
        "id": "fG5Mp31KxL3A",
        "outputId": "99531eb9-f488-43a2-e629-e2b2aea05542"
      },
      "execution_count": null,
      "outputs": [
        {
          "output_type": "execute_result",
          "data": {
            "text/plain": [
              "{'name': 'Blue Jazz',\n",
              " 'description': 'The flower grows in a sphere to invite as many butterflies as possible.',\n",
              " 'general_store_price': 30,\n",
              " 'jojamart_price': 37,\n",
              " 'traveling_cart_price_min': 100,\n",
              " 'traveling_cart_price_max': 1000,\n",
              " 'night_market_price': 30,\n",
              " 'seed': 'Jazz Seeds',\n",
              " 'growth_time': '7 days',\n",
              " 'season': 'Spring',\n",
              " 'xp': '10 Farming XP',\n",
              " 'sell_prices_regular': 50,\n",
              " 'sell_prices_silver': 62,\n",
              " 'sell_prices_gold': 75,\n",
              " 'sell_prices_iridium': 100,\n",
              " 'base': 'Artisan (+40%)'}"
            ]
          },
          "metadata": {},
          "execution_count": 71
        }
      ]
    },
    {
      "cell_type": "markdown",
      "source": [
        "Extracting all the data"
      ],
      "metadata": {
        "id": "EmC2ozlX6Pot"
      }
    },
    {
      "cell_type": "code",
      "source": [
        "df_data = [get_crop(crop.find('table').find_all('tr')) for crop in crops_soup]\n",
        "columns = [list(item.keys()) for item in df_data]\n",
        "columns = set()\n",
        "for sublist in [list(item.keys()) for item in df_data]:\n",
        "  for element in sublist:\n",
        "    columns.add(element)\n",
        "columns = list(columns)\n",
        "df = pd.DataFrame(df_data, columns = columns)"
      ],
      "metadata": {
        "colab": {
          "base_uri": "https://localhost:8080/"
        },
        "id": "fWqJCKcv_r8c",
        "outputId": "9270d99e-fe83-4d5c-b62b-f9fa6bf4d5bb"
      },
      "execution_count": null,
      "outputs": [
        {
          "output_type": "stream",
          "name": "stdout",
          "text": [
            "list index out of range\n",
            "'NoneType' object has no attribute 'find_all'\n"
          ]
        }
      ]
    },
    {
      "cell_type": "code",
      "source": [
        "name_column = df.pop('name')\n",
        "df.insert(0, 'name', name_column)\n",
        "df.sort_values('name')\n",
        "#Joining the sell_price columns\n",
        "\n",
        "df['sell_price_regular'] = df['sell_price_regular'].combine_first(df['sell_prices_regular'])\n",
        "df = df.drop('sell_prices_regular', axis=1)\n",
        "\n",
        "df['sell_price_silver'] = df['sell_price_silver'].combine_first(df['sell_prices_silver'])\n",
        "df = df.drop('sell_prices_silver', axis=1)\n",
        "\n",
        "df['sell_price_gold'] = df['sell_price_gold'].combine_first(df['sell_prices_gold'])\n",
        "df = df.drop('sell_prices_gold', axis=1)\n",
        "\n",
        "df['sell_price_iridium'] = df['sell_price_iridium'].combine_first(df['sell_prices_iridium'])\n",
        "df = df.drop('sell_prices_iridium', axis=1)\n",
        "\n",
        "# Create separate columns for each season\n",
        "seasons = ['Spring', 'Summer', 'Fall', 'Winter']\n",
        "for season in seasons:\n",
        "    df[season.lower()] = df['season'].str.contains(season, case=False)\n",
        "\n",
        "# Fill the values with True or False\n",
        "df = df.replace({True: 'True', False: 'False'})\n",
        "df = df.drop('season', axis=1)\n",
        "\n",
        "# Print the resulting dataframe\n",
        "df.head()"
      ],
      "metadata": {
        "colab": {
          "base_uri": "https://localhost:8080/",
          "height": 612
        },
        "id": "RK0qtOHhWzlS",
        "outputId": "63147129-9943-417d-f818-6a19bfb0a6b4"
      },
      "execution_count": null,
      "outputs": [
        {
          "output_type": "execute_result",
          "data": {
            "text/plain": [
              "          name  sell_price_gold growth_time  traveling_cart_price_max  \\\n",
              "0    Blue Jazz             75.0      7 days                    1000.0   \n",
              "1  Cauliflower            262.0     12 days                    1000.0   \n",
              "2  Coffee Bean             22.0     10 days                       NaN   \n",
              "3       Garlic             90.0      4 days                    1000.0   \n",
              "4   Green Bean             60.0     10 days                    1000.0   \n",
              "\n",
              "                seed    energy            base  night_market_price  \\\n",
              "0         Jazz Seeds       NaN  Artisan (+40%)                30.0   \n",
              "1  Cauliflower Seeds       NaN  Artisan (+40%)                80.0   \n",
              "2        Coffee Bean  Inedible             NaN                 NaN   \n",
              "3       Garlic Seeds       NaN  Artisan (+40%)                40.0   \n",
              "4       Bean Starter       NaN  Artisan (+40%)                60.0   \n",
              "\n",
              "                       source  sell_price_regular  ...  general_store_price  \\\n",
              "0                         NaN                50.0  ...                 30.0   \n",
              "1                         NaN               175.0  ...                 80.0   \n",
              "2  Dust Sprite,Traveling Cart                15.0  ...                  NaN   \n",
              "3                         NaN                60.0  ...                 40.0   \n",
              "4                         NaN                40.0  ...                 60.0   \n",
              "\n",
              "   sell_price_silver jojamart_price  artisan_sell_price  \\\n",
              "0               62.0           37.0                 NaN   \n",
              "1              218.0          100.0                 NaN   \n",
              "2               18.0            NaN                150g   \n",
              "3               75.0            NaN                 NaN   \n",
              "4               50.0           75.0                 NaN   \n",
              "\n",
              "                                         description  \\\n",
              "0  The flower grows in a sphere to invite as many...   \n",
              "1  Valuable, but slow-growing. Despite its pale c...   \n",
              "2  Plant in spring or summer to grow a coffee pla...   \n",
              "3  Adds a wonderful zestiness to dishes. High qua...   \n",
              "4       A juicy little bean with a cool, crisp snap.   \n",
              "\n",
              "   traveling_cart_price_min spring summer   fall winter  \n",
              "0                     100.0   True  False  False  False  \n",
              "1                     120.0   True  False  False  False  \n",
              "2                       NaN   True   True  False  False  \n",
              "3                     100.0   True  False  False  False  \n",
              "4                     100.0   True  False  False  False  \n",
              "\n",
              "[5 rows x 23 columns]"
            ],
            "text/html": [
              "\n",
              "  <div id=\"df-8da45d2e-4e74-4247-960e-e9636fc14670\">\n",
              "    <div class=\"colab-df-container\">\n",
              "      <div>\n",
              "<style scoped>\n",
              "    .dataframe tbody tr th:only-of-type {\n",
              "        vertical-align: middle;\n",
              "    }\n",
              "\n",
              "    .dataframe tbody tr th {\n",
              "        vertical-align: top;\n",
              "    }\n",
              "\n",
              "    .dataframe thead th {\n",
              "        text-align: right;\n",
              "    }\n",
              "</style>\n",
              "<table border=\"1\" class=\"dataframe\">\n",
              "  <thead>\n",
              "    <tr style=\"text-align: right;\">\n",
              "      <th></th>\n",
              "      <th>name</th>\n",
              "      <th>sell_price_gold</th>\n",
              "      <th>growth_time</th>\n",
              "      <th>traveling_cart_price_max</th>\n",
              "      <th>seed</th>\n",
              "      <th>energy</th>\n",
              "      <th>base</th>\n",
              "      <th>night_market_price</th>\n",
              "      <th>source</th>\n",
              "      <th>sell_price_regular</th>\n",
              "      <th>...</th>\n",
              "      <th>general_store_price</th>\n",
              "      <th>sell_price_silver</th>\n",
              "      <th>jojamart_price</th>\n",
              "      <th>artisan_sell_price</th>\n",
              "      <th>description</th>\n",
              "      <th>traveling_cart_price_min</th>\n",
              "      <th>spring</th>\n",
              "      <th>summer</th>\n",
              "      <th>fall</th>\n",
              "      <th>winter</th>\n",
              "    </tr>\n",
              "  </thead>\n",
              "  <tbody>\n",
              "    <tr>\n",
              "      <th>0</th>\n",
              "      <td>Blue Jazz</td>\n",
              "      <td>75.0</td>\n",
              "      <td>7 days</td>\n",
              "      <td>1000.0</td>\n",
              "      <td>Jazz Seeds</td>\n",
              "      <td>NaN</td>\n",
              "      <td>Artisan (+40%)</td>\n",
              "      <td>30.0</td>\n",
              "      <td>NaN</td>\n",
              "      <td>50.0</td>\n",
              "      <td>...</td>\n",
              "      <td>30.0</td>\n",
              "      <td>62.0</td>\n",
              "      <td>37.0</td>\n",
              "      <td>NaN</td>\n",
              "      <td>The flower grows in a sphere to invite as many...</td>\n",
              "      <td>100.0</td>\n",
              "      <td>True</td>\n",
              "      <td>False</td>\n",
              "      <td>False</td>\n",
              "      <td>False</td>\n",
              "    </tr>\n",
              "    <tr>\n",
              "      <th>1</th>\n",
              "      <td>Cauliflower</td>\n",
              "      <td>262.0</td>\n",
              "      <td>12 days</td>\n",
              "      <td>1000.0</td>\n",
              "      <td>Cauliflower Seeds</td>\n",
              "      <td>NaN</td>\n",
              "      <td>Artisan (+40%)</td>\n",
              "      <td>80.0</td>\n",
              "      <td>NaN</td>\n",
              "      <td>175.0</td>\n",
              "      <td>...</td>\n",
              "      <td>80.0</td>\n",
              "      <td>218.0</td>\n",
              "      <td>100.0</td>\n",
              "      <td>NaN</td>\n",
              "      <td>Valuable, but slow-growing. Despite its pale c...</td>\n",
              "      <td>120.0</td>\n",
              "      <td>True</td>\n",
              "      <td>False</td>\n",
              "      <td>False</td>\n",
              "      <td>False</td>\n",
              "    </tr>\n",
              "    <tr>\n",
              "      <th>2</th>\n",
              "      <td>Coffee Bean</td>\n",
              "      <td>22.0</td>\n",
              "      <td>10 days</td>\n",
              "      <td>NaN</td>\n",
              "      <td>Coffee Bean</td>\n",
              "      <td>Inedible</td>\n",
              "      <td>NaN</td>\n",
              "      <td>NaN</td>\n",
              "      <td>Dust Sprite,Traveling Cart</td>\n",
              "      <td>15.0</td>\n",
              "      <td>...</td>\n",
              "      <td>NaN</td>\n",
              "      <td>18.0</td>\n",
              "      <td>NaN</td>\n",
              "      <td>150g</td>\n",
              "      <td>Plant in spring or summer to grow a coffee pla...</td>\n",
              "      <td>NaN</td>\n",
              "      <td>True</td>\n",
              "      <td>True</td>\n",
              "      <td>False</td>\n",
              "      <td>False</td>\n",
              "    </tr>\n",
              "    <tr>\n",
              "      <th>3</th>\n",
              "      <td>Garlic</td>\n",
              "      <td>90.0</td>\n",
              "      <td>4 days</td>\n",
              "      <td>1000.0</td>\n",
              "      <td>Garlic Seeds</td>\n",
              "      <td>NaN</td>\n",
              "      <td>Artisan (+40%)</td>\n",
              "      <td>40.0</td>\n",
              "      <td>NaN</td>\n",
              "      <td>60.0</td>\n",
              "      <td>...</td>\n",
              "      <td>40.0</td>\n",
              "      <td>75.0</td>\n",
              "      <td>NaN</td>\n",
              "      <td>NaN</td>\n",
              "      <td>Adds a wonderful zestiness to dishes. High qua...</td>\n",
              "      <td>100.0</td>\n",
              "      <td>True</td>\n",
              "      <td>False</td>\n",
              "      <td>False</td>\n",
              "      <td>False</td>\n",
              "    </tr>\n",
              "    <tr>\n",
              "      <th>4</th>\n",
              "      <td>Green Bean</td>\n",
              "      <td>60.0</td>\n",
              "      <td>10 days</td>\n",
              "      <td>1000.0</td>\n",
              "      <td>Bean Starter</td>\n",
              "      <td>NaN</td>\n",
              "      <td>Artisan (+40%)</td>\n",
              "      <td>60.0</td>\n",
              "      <td>NaN</td>\n",
              "      <td>40.0</td>\n",
              "      <td>...</td>\n",
              "      <td>60.0</td>\n",
              "      <td>50.0</td>\n",
              "      <td>75.0</td>\n",
              "      <td>NaN</td>\n",
              "      <td>A juicy little bean with a cool, crisp snap.</td>\n",
              "      <td>100.0</td>\n",
              "      <td>True</td>\n",
              "      <td>False</td>\n",
              "      <td>False</td>\n",
              "      <td>False</td>\n",
              "    </tr>\n",
              "  </tbody>\n",
              "</table>\n",
              "<p>5 rows × 23 columns</p>\n",
              "</div>\n",
              "      <button class=\"colab-df-convert\" onclick=\"convertToInteractive('df-8da45d2e-4e74-4247-960e-e9636fc14670')\"\n",
              "              title=\"Convert this dataframe to an interactive table.\"\n",
              "              style=\"display:none;\">\n",
              "        \n",
              "  <svg xmlns=\"http://www.w3.org/2000/svg\" height=\"24px\"viewBox=\"0 0 24 24\"\n",
              "       width=\"24px\">\n",
              "    <path d=\"M0 0h24v24H0V0z\" fill=\"none\"/>\n",
              "    <path d=\"M18.56 5.44l.94 2.06.94-2.06 2.06-.94-2.06-.94-.94-2.06-.94 2.06-2.06.94zm-11 1L8.5 8.5l.94-2.06 2.06-.94-2.06-.94L8.5 2.5l-.94 2.06-2.06.94zm10 10l.94 2.06.94-2.06 2.06-.94-2.06-.94-.94-2.06-.94 2.06-2.06.94z\"/><path d=\"M17.41 7.96l-1.37-1.37c-.4-.4-.92-.59-1.43-.59-.52 0-1.04.2-1.43.59L10.3 9.45l-7.72 7.72c-.78.78-.78 2.05 0 2.83L4 21.41c.39.39.9.59 1.41.59.51 0 1.02-.2 1.41-.59l7.78-7.78 2.81-2.81c.8-.78.8-2.07 0-2.86zM5.41 20L4 18.59l7.72-7.72 1.47 1.35L5.41 20z\"/>\n",
              "  </svg>\n",
              "      </button>\n",
              "      \n",
              "  <style>\n",
              "    .colab-df-container {\n",
              "      display:flex;\n",
              "      flex-wrap:wrap;\n",
              "      gap: 12px;\n",
              "    }\n",
              "\n",
              "    .colab-df-convert {\n",
              "      background-color: #E8F0FE;\n",
              "      border: none;\n",
              "      border-radius: 50%;\n",
              "      cursor: pointer;\n",
              "      display: none;\n",
              "      fill: #1967D2;\n",
              "      height: 32px;\n",
              "      padding: 0 0 0 0;\n",
              "      width: 32px;\n",
              "    }\n",
              "\n",
              "    .colab-df-convert:hover {\n",
              "      background-color: #E2EBFA;\n",
              "      box-shadow: 0px 1px 2px rgba(60, 64, 67, 0.3), 0px 1px 3px 1px rgba(60, 64, 67, 0.15);\n",
              "      fill: #174EA6;\n",
              "    }\n",
              "\n",
              "    [theme=dark] .colab-df-convert {\n",
              "      background-color: #3B4455;\n",
              "      fill: #D2E3FC;\n",
              "    }\n",
              "\n",
              "    [theme=dark] .colab-df-convert:hover {\n",
              "      background-color: #434B5C;\n",
              "      box-shadow: 0px 1px 3px 1px rgba(0, 0, 0, 0.15);\n",
              "      filter: drop-shadow(0px 1px 2px rgba(0, 0, 0, 0.3));\n",
              "      fill: #FFFFFF;\n",
              "    }\n",
              "  </style>\n",
              "\n",
              "      <script>\n",
              "        const buttonEl =\n",
              "          document.querySelector('#df-8da45d2e-4e74-4247-960e-e9636fc14670 button.colab-df-convert');\n",
              "        buttonEl.style.display =\n",
              "          google.colab.kernel.accessAllowed ? 'block' : 'none';\n",
              "\n",
              "        async function convertToInteractive(key) {\n",
              "          const element = document.querySelector('#df-8da45d2e-4e74-4247-960e-e9636fc14670');\n",
              "          const dataTable =\n",
              "            await google.colab.kernel.invokeFunction('convertToInteractive',\n",
              "                                                     [key], {});\n",
              "          if (!dataTable) return;\n",
              "\n",
              "          const docLinkHtml = 'Like what you see? Visit the ' +\n",
              "            '<a target=\"_blank\" href=https://colab.research.google.com/notebooks/data_table.ipynb>data table notebook</a>'\n",
              "            + ' to learn more about interactive tables.';\n",
              "          element.innerHTML = '';\n",
              "          dataTable['output_type'] = 'display_data';\n",
              "          await google.colab.output.renderOutput(dataTable, element);\n",
              "          const docLink = document.createElement('div');\n",
              "          docLink.innerHTML = docLinkHtml;\n",
              "          element.appendChild(docLink);\n",
              "        }\n",
              "      </script>\n",
              "    </div>\n",
              "  </div>\n",
              "  "
            ]
          },
          "metadata": {},
          "execution_count": 75
        }
      ]
    },
    {
      "cell_type": "code",
      "source": [
        "df['growth_time'] = (\n",
        "    df\n",
        "    .growth_time\n",
        "    .fillna('0')\n",
        "    .apply(lambda i: i.split(' ')[0])\n",
        "    .astype(int)\n",
        ")"
      ],
      "metadata": {
        "id": "A25nKd1Mfprq"
      },
      "execution_count": null,
      "outputs": []
    },
    {
      "cell_type": "code",
      "source": [
        "df.to_csv('crops.csv')"
      ],
      "metadata": {
        "id": "jljzG5mIlr4T"
      },
      "execution_count": null,
      "outputs": []
    },
    {
      "cell_type": "markdown",
      "source": [
        "**Deleting the Ginger Island crops**\n",
        "\n",
        "I deleted the Ginger Island crops because you can't buy the seed in the stores. You can trade they but it's more difficult to compare the price of the trade with gold. The Ginger Island crops are:\n",
        "\n",
        "* Taro roots\n",
        "* Pineapple\n",
        "\n",
        "Also, I deleted some crops in similar situations, like:\n",
        "\n",
        "* Tea Leaves\n",
        "* Sweet Gem Berry\n",
        "* Mixed Seeds\n",
        "* Fiber\n",
        "* Cactus Fruit\n",
        "* Strawberry\n",
        "* Coffee Bean\n",
        "\n",
        "\n"
      ],
      "metadata": {
        "id": "10ooVlpuoWvE"
      }
    },
    {
      "cell_type": "code",
      "source": [
        "df = df.drop(df[df['name'] == 'Taro Root'].index)\n",
        "df = df.drop(df[df['name'] == 'Pineapple'].index)\n",
        "\n",
        "df = df.drop(df[df['name'] == 'Tea Leaves'].index)\n",
        "df = df.drop(df[df['name'] == 'Sweet Gem Berry'].index)\n",
        "df = df.drop(df[df['name'] == 'Mixed Seeds'].index)\n",
        "df = df.drop(df[df['name'] == 'Fiber'].index)\n",
        "df = df.drop(df[df['name'] == 'Cactus Fruit'].index)\n",
        "df = df.drop(df[df['name'] == 'Strawberry'].index)\n",
        "df = df.drop(df[df['name'] == 'Coffee Bean'].index)"
      ],
      "metadata": {
        "id": "gwh8eYdhoV-T"
      },
      "execution_count": null,
      "outputs": []
    },
    {
      "cell_type": "code",
      "source": [
        "df.columns"
      ],
      "metadata": {
        "colab": {
          "base_uri": "https://localhost:8080/"
        },
        "id": "iGioHPLLb_XL",
        "outputId": "ec3393b0-e745-4f79-bb3e-d83081008cff"
      },
      "execution_count": null,
      "outputs": [
        {
          "output_type": "execute_result",
          "data": {
            "text/plain": [
              "Index(['name', 'sell_price_gold', 'growth_time', 'traveling_cart_price_max',\n",
              "       'seed', 'energy', 'base', 'night_market_price', 'source',\n",
              "       'sell_price_regular', 'sell_price_iridium', 'oasis_price', 'xp',\n",
              "       'general_store_price', 'sell_price_silver', 'jojamart_price',\n",
              "       'artisan_sell_price', 'description', 'traveling_cart_price_min',\n",
              "       'spring', 'summer', 'fall', 'winter', 'price_min', 'gold_per_day'],\n",
              "      dtype='object')"
            ]
          },
          "metadata": {},
          "execution_count": 95
        }
      ]
    },
    {
      "cell_type": "code",
      "source": [
        "df['price_min'] = df[['night_market_price', 'oasis_price', 'general_store_price', 'jojamart_price', 'traveling_cart_price_min']].min(axis=1)"
      ],
      "metadata": {
        "id": "smMjnFvBlNkV"
      },
      "execution_count": null,
      "outputs": []
    },
    {
      "cell_type": "code",
      "source": [
        "df[['name', 'sell_price_regular', 'growth_time', 'price_min']].head()"
      ],
      "metadata": {
        "colab": {
          "base_uri": "https://localhost:8080/",
          "height": 206
        },
        "id": "vk5NPMafyyqZ",
        "outputId": "429cec3f-6d95-4d45-e790-610dfffea62d"
      },
      "execution_count": null,
      "outputs": [
        {
          "output_type": "execute_result",
          "data": {
            "text/plain": [
              "          name  sell_price_regular  growth_time  price_min\n",
              "0    Blue Jazz                50.0            7       30.0\n",
              "1  Cauliflower               175.0           12       80.0\n",
              "3       Garlic                60.0            4       40.0\n",
              "4   Green Bean                40.0           10       60.0\n",
              "5         Kale               110.0            6       70.0"
            ],
            "text/html": [
              "\n",
              "  <div id=\"df-5594e643-320f-464e-8429-4dbee259d258\">\n",
              "    <div class=\"colab-df-container\">\n",
              "      <div>\n",
              "<style scoped>\n",
              "    .dataframe tbody tr th:only-of-type {\n",
              "        vertical-align: middle;\n",
              "    }\n",
              "\n",
              "    .dataframe tbody tr th {\n",
              "        vertical-align: top;\n",
              "    }\n",
              "\n",
              "    .dataframe thead th {\n",
              "        text-align: right;\n",
              "    }\n",
              "</style>\n",
              "<table border=\"1\" class=\"dataframe\">\n",
              "  <thead>\n",
              "    <tr style=\"text-align: right;\">\n",
              "      <th></th>\n",
              "      <th>name</th>\n",
              "      <th>sell_price_regular</th>\n",
              "      <th>growth_time</th>\n",
              "      <th>price_min</th>\n",
              "    </tr>\n",
              "  </thead>\n",
              "  <tbody>\n",
              "    <tr>\n",
              "      <th>0</th>\n",
              "      <td>Blue Jazz</td>\n",
              "      <td>50.0</td>\n",
              "      <td>7</td>\n",
              "      <td>30.0</td>\n",
              "    </tr>\n",
              "    <tr>\n",
              "      <th>1</th>\n",
              "      <td>Cauliflower</td>\n",
              "      <td>175.0</td>\n",
              "      <td>12</td>\n",
              "      <td>80.0</td>\n",
              "    </tr>\n",
              "    <tr>\n",
              "      <th>3</th>\n",
              "      <td>Garlic</td>\n",
              "      <td>60.0</td>\n",
              "      <td>4</td>\n",
              "      <td>40.0</td>\n",
              "    </tr>\n",
              "    <tr>\n",
              "      <th>4</th>\n",
              "      <td>Green Bean</td>\n",
              "      <td>40.0</td>\n",
              "      <td>10</td>\n",
              "      <td>60.0</td>\n",
              "    </tr>\n",
              "    <tr>\n",
              "      <th>5</th>\n",
              "      <td>Kale</td>\n",
              "      <td>110.0</td>\n",
              "      <td>6</td>\n",
              "      <td>70.0</td>\n",
              "    </tr>\n",
              "  </tbody>\n",
              "</table>\n",
              "</div>\n",
              "      <button class=\"colab-df-convert\" onclick=\"convertToInteractive('df-5594e643-320f-464e-8429-4dbee259d258')\"\n",
              "              title=\"Convert this dataframe to an interactive table.\"\n",
              "              style=\"display:none;\">\n",
              "        \n",
              "  <svg xmlns=\"http://www.w3.org/2000/svg\" height=\"24px\"viewBox=\"0 0 24 24\"\n",
              "       width=\"24px\">\n",
              "    <path d=\"M0 0h24v24H0V0z\" fill=\"none\"/>\n",
              "    <path d=\"M18.56 5.44l.94 2.06.94-2.06 2.06-.94-2.06-.94-.94-2.06-.94 2.06-2.06.94zm-11 1L8.5 8.5l.94-2.06 2.06-.94-2.06-.94L8.5 2.5l-.94 2.06-2.06.94zm10 10l.94 2.06.94-2.06 2.06-.94-2.06-.94-.94-2.06-.94 2.06-2.06.94z\"/><path d=\"M17.41 7.96l-1.37-1.37c-.4-.4-.92-.59-1.43-.59-.52 0-1.04.2-1.43.59L10.3 9.45l-7.72 7.72c-.78.78-.78 2.05 0 2.83L4 21.41c.39.39.9.59 1.41.59.51 0 1.02-.2 1.41-.59l7.78-7.78 2.81-2.81c.8-.78.8-2.07 0-2.86zM5.41 20L4 18.59l7.72-7.72 1.47 1.35L5.41 20z\"/>\n",
              "  </svg>\n",
              "      </button>\n",
              "      \n",
              "  <style>\n",
              "    .colab-df-container {\n",
              "      display:flex;\n",
              "      flex-wrap:wrap;\n",
              "      gap: 12px;\n",
              "    }\n",
              "\n",
              "    .colab-df-convert {\n",
              "      background-color: #E8F0FE;\n",
              "      border: none;\n",
              "      border-radius: 50%;\n",
              "      cursor: pointer;\n",
              "      display: none;\n",
              "      fill: #1967D2;\n",
              "      height: 32px;\n",
              "      padding: 0 0 0 0;\n",
              "      width: 32px;\n",
              "    }\n",
              "\n",
              "    .colab-df-convert:hover {\n",
              "      background-color: #E2EBFA;\n",
              "      box-shadow: 0px 1px 2px rgba(60, 64, 67, 0.3), 0px 1px 3px 1px rgba(60, 64, 67, 0.15);\n",
              "      fill: #174EA6;\n",
              "    }\n",
              "\n",
              "    [theme=dark] .colab-df-convert {\n",
              "      background-color: #3B4455;\n",
              "      fill: #D2E3FC;\n",
              "    }\n",
              "\n",
              "    [theme=dark] .colab-df-convert:hover {\n",
              "      background-color: #434B5C;\n",
              "      box-shadow: 0px 1px 3px 1px rgba(0, 0, 0, 0.15);\n",
              "      filter: drop-shadow(0px 1px 2px rgba(0, 0, 0, 0.3));\n",
              "      fill: #FFFFFF;\n",
              "    }\n",
              "  </style>\n",
              "\n",
              "      <script>\n",
              "        const buttonEl =\n",
              "          document.querySelector('#df-5594e643-320f-464e-8429-4dbee259d258 button.colab-df-convert');\n",
              "        buttonEl.style.display =\n",
              "          google.colab.kernel.accessAllowed ? 'block' : 'none';\n",
              "\n",
              "        async function convertToInteractive(key) {\n",
              "          const element = document.querySelector('#df-5594e643-320f-464e-8429-4dbee259d258');\n",
              "          const dataTable =\n",
              "            await google.colab.kernel.invokeFunction('convertToInteractive',\n",
              "                                                     [key], {});\n",
              "          if (!dataTable) return;\n",
              "\n",
              "          const docLinkHtml = 'Like what you see? Visit the ' +\n",
              "            '<a target=\"_blank\" href=https://colab.research.google.com/notebooks/data_table.ipynb>data table notebook</a>'\n",
              "            + ' to learn more about interactive tables.';\n",
              "          element.innerHTML = '';\n",
              "          dataTable['output_type'] = 'display_data';\n",
              "          await google.colab.output.renderOutput(dataTable, element);\n",
              "          const docLink = document.createElement('div');\n",
              "          docLink.innerHTML = docLinkHtml;\n",
              "          element.appendChild(docLink);\n",
              "        }\n",
              "      </script>\n",
              "    </div>\n",
              "  </div>\n",
              "  "
            ]
          },
          "metadata": {},
          "execution_count": 97
        }
      ]
    },
    {
      "cell_type": "code",
      "source": [
        "df['gold_per_day'] = ( df['sell_price_iridium'] - df['price_min'])  / df['growth_time']"
      ],
      "metadata": {
        "id": "djG6swPsbPbX"
      },
      "execution_count": null,
      "outputs": []
    },
    {
      "cell_type": "code",
      "source": [
        "df[df['spring'] == 'True'][['name', 'sell_price_iridium', 'growth_time', 'price_min', 'gold_per_day']].sort_values('gold_per_day', ascending = False)"
      ],
      "metadata": {
        "colab": {
          "base_uri": "https://localhost:8080/",
          "height": 394
        },
        "id": "172jlLnqbYKD",
        "outputId": "741df80f-15e3-4d35-af6b-074e75171dc9"
      },
      "execution_count": null,
      "outputs": [
        {
          "output_type": "execute_result",
          "data": {
            "text/plain": [
              "             name  sell_price_iridium  growth_time  price_min  gold_per_day\n",
              "35  Ancient Fruit              1100.0           28      100.0     35.714286\n",
              "8         Rhubarb               440.0           13      100.0     26.153846\n",
              "5            Kale               220.0            6       70.0     25.000000\n",
              "1     Cauliflower               350.0           12       80.0     22.500000\n",
              "3          Garlic               120.0            4       40.0     20.000000\n",
              "7          Potato               160.0            6       50.0     18.333333\n",
              "6         Parsnip                70.0            4       20.0     12.500000\n",
              "0       Blue Jazz               100.0            7       30.0     10.000000\n",
              "10          Tulip                60.0            6       20.0      6.666667\n",
              "11  Unmilled Rice                60.0            8       40.0      2.500000\n",
              "4      Green Bean                80.0           10       60.0      2.000000"
            ],
            "text/html": [
              "\n",
              "  <div id=\"df-94720b88-ca53-4f55-9df6-2f840a06b695\">\n",
              "    <div class=\"colab-df-container\">\n",
              "      <div>\n",
              "<style scoped>\n",
              "    .dataframe tbody tr th:only-of-type {\n",
              "        vertical-align: middle;\n",
              "    }\n",
              "\n",
              "    .dataframe tbody tr th {\n",
              "        vertical-align: top;\n",
              "    }\n",
              "\n",
              "    .dataframe thead th {\n",
              "        text-align: right;\n",
              "    }\n",
              "</style>\n",
              "<table border=\"1\" class=\"dataframe\">\n",
              "  <thead>\n",
              "    <tr style=\"text-align: right;\">\n",
              "      <th></th>\n",
              "      <th>name</th>\n",
              "      <th>sell_price_iridium</th>\n",
              "      <th>growth_time</th>\n",
              "      <th>price_min</th>\n",
              "      <th>gold_per_day</th>\n",
              "    </tr>\n",
              "  </thead>\n",
              "  <tbody>\n",
              "    <tr>\n",
              "      <th>35</th>\n",
              "      <td>Ancient Fruit</td>\n",
              "      <td>1100.0</td>\n",
              "      <td>28</td>\n",
              "      <td>100.0</td>\n",
              "      <td>35.714286</td>\n",
              "    </tr>\n",
              "    <tr>\n",
              "      <th>8</th>\n",
              "      <td>Rhubarb</td>\n",
              "      <td>440.0</td>\n",
              "      <td>13</td>\n",
              "      <td>100.0</td>\n",
              "      <td>26.153846</td>\n",
              "    </tr>\n",
              "    <tr>\n",
              "      <th>5</th>\n",
              "      <td>Kale</td>\n",
              "      <td>220.0</td>\n",
              "      <td>6</td>\n",
              "      <td>70.0</td>\n",
              "      <td>25.000000</td>\n",
              "    </tr>\n",
              "    <tr>\n",
              "      <th>1</th>\n",
              "      <td>Cauliflower</td>\n",
              "      <td>350.0</td>\n",
              "      <td>12</td>\n",
              "      <td>80.0</td>\n",
              "      <td>22.500000</td>\n",
              "    </tr>\n",
              "    <tr>\n",
              "      <th>3</th>\n",
              "      <td>Garlic</td>\n",
              "      <td>120.0</td>\n",
              "      <td>4</td>\n",
              "      <td>40.0</td>\n",
              "      <td>20.000000</td>\n",
              "    </tr>\n",
              "    <tr>\n",
              "      <th>7</th>\n",
              "      <td>Potato</td>\n",
              "      <td>160.0</td>\n",
              "      <td>6</td>\n",
              "      <td>50.0</td>\n",
              "      <td>18.333333</td>\n",
              "    </tr>\n",
              "    <tr>\n",
              "      <th>6</th>\n",
              "      <td>Parsnip</td>\n",
              "      <td>70.0</td>\n",
              "      <td>4</td>\n",
              "      <td>20.0</td>\n",
              "      <td>12.500000</td>\n",
              "    </tr>\n",
              "    <tr>\n",
              "      <th>0</th>\n",
              "      <td>Blue Jazz</td>\n",
              "      <td>100.0</td>\n",
              "      <td>7</td>\n",
              "      <td>30.0</td>\n",
              "      <td>10.000000</td>\n",
              "    </tr>\n",
              "    <tr>\n",
              "      <th>10</th>\n",
              "      <td>Tulip</td>\n",
              "      <td>60.0</td>\n",
              "      <td>6</td>\n",
              "      <td>20.0</td>\n",
              "      <td>6.666667</td>\n",
              "    </tr>\n",
              "    <tr>\n",
              "      <th>11</th>\n",
              "      <td>Unmilled Rice</td>\n",
              "      <td>60.0</td>\n",
              "      <td>8</td>\n",
              "      <td>40.0</td>\n",
              "      <td>2.500000</td>\n",
              "    </tr>\n",
              "    <tr>\n",
              "      <th>4</th>\n",
              "      <td>Green Bean</td>\n",
              "      <td>80.0</td>\n",
              "      <td>10</td>\n",
              "      <td>60.0</td>\n",
              "      <td>2.000000</td>\n",
              "    </tr>\n",
              "  </tbody>\n",
              "</table>\n",
              "</div>\n",
              "      <button class=\"colab-df-convert\" onclick=\"convertToInteractive('df-94720b88-ca53-4f55-9df6-2f840a06b695')\"\n",
              "              title=\"Convert this dataframe to an interactive table.\"\n",
              "              style=\"display:none;\">\n",
              "        \n",
              "  <svg xmlns=\"http://www.w3.org/2000/svg\" height=\"24px\"viewBox=\"0 0 24 24\"\n",
              "       width=\"24px\">\n",
              "    <path d=\"M0 0h24v24H0V0z\" fill=\"none\"/>\n",
              "    <path d=\"M18.56 5.44l.94 2.06.94-2.06 2.06-.94-2.06-.94-.94-2.06-.94 2.06-2.06.94zm-11 1L8.5 8.5l.94-2.06 2.06-.94-2.06-.94L8.5 2.5l-.94 2.06-2.06.94zm10 10l.94 2.06.94-2.06 2.06-.94-2.06-.94-.94-2.06-.94 2.06-2.06.94z\"/><path d=\"M17.41 7.96l-1.37-1.37c-.4-.4-.92-.59-1.43-.59-.52 0-1.04.2-1.43.59L10.3 9.45l-7.72 7.72c-.78.78-.78 2.05 0 2.83L4 21.41c.39.39.9.59 1.41.59.51 0 1.02-.2 1.41-.59l7.78-7.78 2.81-2.81c.8-.78.8-2.07 0-2.86zM5.41 20L4 18.59l7.72-7.72 1.47 1.35L5.41 20z\"/>\n",
              "  </svg>\n",
              "      </button>\n",
              "      \n",
              "  <style>\n",
              "    .colab-df-container {\n",
              "      display:flex;\n",
              "      flex-wrap:wrap;\n",
              "      gap: 12px;\n",
              "    }\n",
              "\n",
              "    .colab-df-convert {\n",
              "      background-color: #E8F0FE;\n",
              "      border: none;\n",
              "      border-radius: 50%;\n",
              "      cursor: pointer;\n",
              "      display: none;\n",
              "      fill: #1967D2;\n",
              "      height: 32px;\n",
              "      padding: 0 0 0 0;\n",
              "      width: 32px;\n",
              "    }\n",
              "\n",
              "    .colab-df-convert:hover {\n",
              "      background-color: #E2EBFA;\n",
              "      box-shadow: 0px 1px 2px rgba(60, 64, 67, 0.3), 0px 1px 3px 1px rgba(60, 64, 67, 0.15);\n",
              "      fill: #174EA6;\n",
              "    }\n",
              "\n",
              "    [theme=dark] .colab-df-convert {\n",
              "      background-color: #3B4455;\n",
              "      fill: #D2E3FC;\n",
              "    }\n",
              "\n",
              "    [theme=dark] .colab-df-convert:hover {\n",
              "      background-color: #434B5C;\n",
              "      box-shadow: 0px 1px 3px 1px rgba(0, 0, 0, 0.15);\n",
              "      filter: drop-shadow(0px 1px 2px rgba(0, 0, 0, 0.3));\n",
              "      fill: #FFFFFF;\n",
              "    }\n",
              "  </style>\n",
              "\n",
              "      <script>\n",
              "        const buttonEl =\n",
              "          document.querySelector('#df-94720b88-ca53-4f55-9df6-2f840a06b695 button.colab-df-convert');\n",
              "        buttonEl.style.display =\n",
              "          google.colab.kernel.accessAllowed ? 'block' : 'none';\n",
              "\n",
              "        async function convertToInteractive(key) {\n",
              "          const element = document.querySelector('#df-94720b88-ca53-4f55-9df6-2f840a06b695');\n",
              "          const dataTable =\n",
              "            await google.colab.kernel.invokeFunction('convertToInteractive',\n",
              "                                                     [key], {});\n",
              "          if (!dataTable) return;\n",
              "\n",
              "          const docLinkHtml = 'Like what you see? Visit the ' +\n",
              "            '<a target=\"_blank\" href=https://colab.research.google.com/notebooks/data_table.ipynb>data table notebook</a>'\n",
              "            + ' to learn more about interactive tables.';\n",
              "          element.innerHTML = '';\n",
              "          dataTable['output_type'] = 'display_data';\n",
              "          await google.colab.output.renderOutput(dataTable, element);\n",
              "          const docLink = document.createElement('div');\n",
              "          docLink.innerHTML = docLinkHtml;\n",
              "          element.appendChild(docLink);\n",
              "        }\n",
              "      </script>\n",
              "    </div>\n",
              "  </div>\n",
              "  "
            ]
          },
          "metadata": {},
          "execution_count": 109
        }
      ]
    },
    {
      "cell_type": "code",
      "source": [],
      "metadata": {
        "id": "vNcdHf6VtAdG"
      },
      "execution_count": null,
      "outputs": []
    }
  ]
}