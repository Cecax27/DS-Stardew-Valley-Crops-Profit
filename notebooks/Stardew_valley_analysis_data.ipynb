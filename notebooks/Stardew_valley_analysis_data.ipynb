{
  "nbformat": 4,
  "nbformat_minor": 0,
  "metadata": {
    "colab": {
      "provenance": [],
      "authorship_tag": "ABX9TyP3Drfk7BgygIYVc+61R6Xz",
      "include_colab_link": true
    },
    "kernelspec": {
      "name": "python3",
      "display_name": "Python 3"
    },
    "language_info": {
      "name": "python"
    }
  },
  "cells": [
    {
      "cell_type": "markdown",
      "metadata": {
        "id": "view-in-github",
        "colab_type": "text"
      },
      "source": [
        "<a href=\"https://colab.research.google.com/github/Cecax27/DS-Stardew-Valley-Crops-Profit/blob/main/notebooks/Stardew_valley_analysis_data.ipynb\" target=\"_parent\"><img src=\"https://colab.research.google.com/assets/colab-badge.svg\" alt=\"Open In Colab\"/></a>"
      ]
    },
    {
      "cell_type": "markdown",
      "source": [
        "# Transform data\n",
        "\n",
        "Previously, I extracted information from Stardew Valley Wiki about the crops and theirs seeds. You can see the notebook on: [Stardew_valley_web_scraper.ipynb](https://github.com/Cecax27/DS-Stardew-Valley-Crops-Profit/blob/main/notebooks/Stardew_valley_web_scraper.ipynb)\n",
        "\n",
        "In this notebook I'll transform and clean the data to start to making analysis.\n",
        "\n",
        "The url of the website is https://stardewvalleywiki.com. You can visit it to find a lot of information about the game.\n",
        "\n",
        "## Importing libraries"
      ],
      "metadata": {
        "id": "wE3evqTVRcF3"
      }
    },
    {
      "cell_type": "code",
      "source": [
        "import pandas as pd\n",
        "import numpy as np\n",
        "import matplotlib.pyplot as plt\n",
        "import seaborn as sns\n",
        "from pprint import pprint"
      ],
      "metadata": {
        "id": "6gp7nj8uSH0_"
      },
      "execution_count": null,
      "outputs": []
    },
    {
      "cell_type": "code",
      "source": [
        "%matplotlib inline\n",
        "sns.set_style(style='whitegrid')\n",
        "sns.set_context(context='notebook')\n",
        "plt.rcParams['figure.figsize'] = (7, 5)"
      ],
      "metadata": {
        "id": "4Q-j_8nXYNXq"
      },
      "execution_count": null,
      "outputs": []
    },
    {
      "cell_type": "markdown",
      "source": [
        "## Loading data from csv"
      ],
      "metadata": {
        "id": "4nMPeA-nSLWc"
      }
    },
    {
      "cell_type": "code",
      "source": [
        "df = pd.read_csv('crops_raw_data.csv')\n",
        "\n",
        "print(f'DataFrame created with {df.shape[0]} rows and {df.shape[1]} columns\\n')\n",
        "print('Columns:')\n",
        "print(df.dtypes)"
      ],
      "metadata": {
        "colab": {
          "base_uri": "https://localhost:8080/"
        },
        "id": "VYbzwuBFSOs1",
        "outputId": "12ea060d-4186-4905-8eb6-ed04e2368c20"
      },
      "execution_count": null,
      "outputs": [
        {
          "output_type": "stream",
          "name": "stdout",
          "text": [
            "DataFrame created with 43 rows and 26 columns\n",
            "\n",
            "Columns:\n",
            "Unnamed: 0                    int64\n",
            "jojamart_price              float64\n",
            "sell_prices_iridium         float64\n",
            "night_market_price          float64\n",
            "artisan_sell_price           object\n",
            "name                         object\n",
            "xp                           object\n",
            "season                       object\n",
            "general_store_price         float64\n",
            "sell_price_regular          float64\n",
            "traveling_cart_price_min    float64\n",
            "source                       object\n",
            "growth_time                  object\n",
            "sell_prices_regular         float64\n",
            "egg_festival_price          float64\n",
            "traveling_cart_price_max    float64\n",
            "sell_price_iridium          float64\n",
            "base                         object\n",
            "sell_prices_silver          float64\n",
            "sell_price_silver           float64\n",
            "description                  object\n",
            "energy                       object\n",
            "seed                         object\n",
            "sell_prices_gold            float64\n",
            "oasis_price                 float64\n",
            "sell_price_gold             float64\n",
            "dtype: object\n"
          ]
        }
      ]
    },
    {
      "cell_type": "markdown",
      "source": [
        "## Transform data\n",
        "\n",
        "Seeing the columns, I can start thinking about first modifications.\n",
        "\n",
        "* I want to have the name column as the first. And the other ones ordered by alphabet.\n",
        "* I have one column \"sell_price_regular\" and another \"sell_prices_regular\". The same for all the qualities. I will join both columns.\n",
        "* I have in the column \"season\" a string with the seasons of each crop. I will divide the column in each season, like \"spring\", etc. And fill them with booleans values."
      ],
      "metadata": {
        "id": "clGZ_HLmTZzq"
      }
    },
    {
      "cell_type": "code",
      "source": [
        "# Ordering columns by alphabet\n",
        "df = df.sort_index(axis=1)\n",
        "\n",
        "# Changing 'name' column first\n",
        "name_column = df.pop('name')\n",
        "df.insert(0, 'name', name_column)\n",
        "\n",
        "# Sorting the rows oby alphabet\n",
        "df = df.sort_values('name')"
      ],
      "metadata": {
        "id": "HpZf2XCmUySj"
      },
      "execution_count": null,
      "outputs": []
    },
    {
      "cell_type": "code",
      "execution_count": null,
      "metadata": {
        "id": "2KxMpWWBOSBO"
      },
      "outputs": [],
      "source": [
        "# Joining the sell_price columns\n",
        "df['sell_price_regular'] = df['sell_price_regular'].combine_first(df['sell_prices_regular'])\n",
        "df = df.drop('sell_prices_regular', axis=1)\n",
        "\n",
        "df['sell_price_silver'] = df['sell_price_silver'].combine_first(df['sell_prices_silver'])\n",
        "df = df.drop('sell_prices_silver', axis=1)\n",
        "\n",
        "df['sell_price_gold'] = df['sell_price_gold'].combine_first(df['sell_prices_gold'])\n",
        "df = df.drop('sell_prices_gold', axis=1)\n",
        "\n",
        "df['sell_price_iridium'] = df['sell_price_iridium'].combine_first(df['sell_prices_iridium'])\n",
        "df = df.drop('sell_prices_iridium', axis=1)"
      ]
    },
    {
      "cell_type": "code",
      "source": [
        "# Creating separate columns for each season\n",
        "seasons = ['Spring', 'Summer', 'Fall', 'Winter']\n",
        "for season in seasons:\n",
        "    df[season.lower()] = df['season'].str.contains(season, case=False)\n",
        "\n",
        "# Fill the values with True or False\n",
        "df = df.replace({True: 'True', False: 'False'})\n",
        "df = df.drop('season', axis=1)"
      ],
      "metadata": {
        "id": "EsHvSrMaVihJ"
      },
      "execution_count": null,
      "outputs": []
    },
    {
      "cell_type": "code",
      "source": [
        "print(f'DataFrame have {df.shape[0]} rows and {df.shape[1]} columns\\n')\n",
        "print('Columns:')\n",
        "print(df.dtypes)"
      ],
      "metadata": {
        "colab": {
          "base_uri": "https://localhost:8080/"
        },
        "id": "Bv45LIuXVzDF",
        "outputId": "07f30367-0fc8-4786-bf45-c3b9c7a1ceca"
      },
      "execution_count": null,
      "outputs": [
        {
          "output_type": "stream",
          "name": "stdout",
          "text": [
            "DataFrame have 43 rows and 25 columns\n",
            "\n",
            "Columns:\n",
            "name                         object\n",
            "Unnamed: 0                    int64\n",
            "artisan_sell_price           object\n",
            "base                         object\n",
            "description                  object\n",
            "egg_festival_price          float64\n",
            "energy                       object\n",
            "general_store_price         float64\n",
            "growth_time                  object\n",
            "jojamart_price              float64\n",
            "night_market_price          float64\n",
            "oasis_price                 float64\n",
            "seed                         object\n",
            "sell_price_gold             float64\n",
            "sell_price_iridium          float64\n",
            "sell_price_regular          float64\n",
            "sell_price_silver           float64\n",
            "source                       object\n",
            "traveling_cart_price_max    float64\n",
            "traveling_cart_price_min    float64\n",
            "xp                           object\n",
            "spring                       object\n",
            "summer                       object\n",
            "fall                         object\n",
            "winter                       object\n",
            "dtype: object\n"
          ]
        }
      ]
    },
    {
      "cell_type": "markdown",
      "source": [
        "## Cleaning data"
      ],
      "metadata": {
        "id": "bFidvz6tWt3A"
      }
    },
    {
      "cell_type": "code",
      "source": [
        "# Wich columns have null values?\n",
        "(\n",
        "    df\n",
        "    .isnull()\n",
        "    .sum()\n",
        ")"
      ],
      "metadata": {
        "colab": {
          "base_uri": "https://localhost:8080/"
        },
        "id": "_jML_bq-W4zz",
        "outputId": "7d9aa8f5-9874-43a4-82cd-7459d2482b65"
      },
      "execution_count": null,
      "outputs": [
        {
          "output_type": "execute_result",
          "data": {
            "text/plain": [
              "name                         0\n",
              "Unnamed: 0                   0\n",
              "artisan_sell_price          42\n",
              "base                         4\n",
              "description                  0\n",
              "egg_festival_price          42\n",
              "energy                      36\n",
              "general_store_price         14\n",
              "growth_time                  0\n",
              "jojamart_price              19\n",
              "night_market_price          35\n",
              "oasis_price                 40\n",
              "seed                         2\n",
              "sell_price_gold              2\n",
              "sell_price_iridium           2\n",
              "sell_price_regular           1\n",
              "sell_price_silver            2\n",
              "source                      39\n",
              "traveling_cart_price_max     7\n",
              "traveling_cart_price_min     7\n",
              "xp                           2\n",
              "spring                       2\n",
              "summer                       2\n",
              "fall                         2\n",
              "winter                       2\n",
              "dtype: int64"
            ]
          },
          "metadata": {},
          "execution_count": 32
        }
      ]
    },
    {
      "cell_type": "code",
      "source": [
        "# Null values proportion for each variable\n",
        "(\n",
        "    df\n",
        "    .isnull()\n",
        "    .melt()\n",
        "    .pipe(\n",
        "        lambda df: (\n",
        "            sns.displot(\n",
        "                data = df,\n",
        "                y = 'variable',\n",
        "                hue = 'value',\n",
        "                multiple = 'fill',\n",
        "                aspect = 2\n",
        "            )\n",
        "        )\n",
        "    )\n",
        ")"
      ],
      "metadata": {
        "colab": {
          "base_uri": "https://localhost:8080/",
          "height": 518
        },
        "id": "Q520kOvgXkL6",
        "outputId": "cc526793-a823-4b7b-8728-61a823763b02"
      },
      "execution_count": null,
      "outputs": [
        {
          "output_type": "execute_result",
          "data": {
            "text/plain": [
              "<seaborn.axisgrid.FacetGrid at 0x7fd061c39f60>"
            ]
          },
          "metadata": {},
          "execution_count": 40
        },
        {
          "output_type": "display_data",
          "data": {
            "text/plain": [
              "<Figure size 1093.5x500 with 1 Axes>"
            ],
            "image/png": "[encoded data removed]"
          },
          "metadata": {}
        }
      ]
    },
    {
      "cell_type": "code",
      "source": [
        "df.describe(include = 'all')"
      ],
      "metadata": {
        "colab": {
          "base_uri": "https://localhost:8080/",
          "height": 574
        },
        "id": "9JodT4_RYzUE",
        "outputId": "cf6cba6c-3f57-4162-f27c-00257f149a91"
      },
      "execution_count": null,
      "outputs": [
        {
          "output_type": "execute_result",
          "data": {
            "text/plain": [
              "            name  Unnamed: 0 artisan_sell_price            base  \\\n",
              "count         43   43.000000                  1              39   \n",
              "unique        43         NaN                  1               1   \n",
              "top     Amaranth         NaN               150g  Artisan (+40%)   \n",
              "freq           1         NaN                  1              39   \n",
              "mean         NaN   21.000000                NaN             NaN   \n",
              "std          NaN   12.556539                NaN             NaN   \n",
              "min          NaN    0.000000                NaN             NaN   \n",
              "25%          NaN   10.500000                NaN             NaN   \n",
              "50%          NaN   21.000000                NaN             NaN   \n",
              "75%          NaN   31.500000                NaN             NaN   \n",
              "max          NaN   42.000000                NaN             NaN   \n",
              "\n",
              "                                              description  egg_festival_price  \\\n",
              "count                                                  43                 1.0   \n",
              "unique                                                 43                 NaN   \n",
              "top     A purple grain cultivated by an ancient civili...                 NaN   \n",
              "freq                                                    1                 NaN   \n",
              "mean                                                  NaN               100.0   \n",
              "std                                                   NaN                 NaN   \n",
              "min                                                   NaN               100.0   \n",
              "25%                                                   NaN               100.0   \n",
              "50%                                                   NaN               100.0   \n",
              "75%                                                   NaN               100.0   \n",
              "max                                                   NaN               100.0   \n",
              "\n",
              "          energy  general_store_price  growth_time  jojamart_price  ...  \\\n",
              "count          7            29.000000    43.000000       24.000000  ...   \n",
              "unique         1                  NaN          NaN             NaN  ...   \n",
              "top     Inedible                  NaN          NaN             NaN  ...   \n",
              "freq           7                  NaN          NaN             NaN  ...   \n",
              "mean         NaN            73.793103     9.348837       90.958333  ...   \n",
              "std          NaN            57.159788     5.406714       69.644738  ...   \n",
              "min          NaN            10.000000     0.000000       12.000000  ...   \n",
              "25%          NaN            40.000000     6.000000       50.000000  ...   \n",
              "50%          NaN            60.000000     8.000000       75.000000  ...   \n",
              "75%          NaN            80.000000    12.000000      106.250000  ...   \n",
              "max          NaN           240.000000    28.000000      300.000000  ...   \n",
              "\n",
              "        sell_price_regular  sell_price_silver  \\\n",
              "count            42.000000          41.000000   \n",
              "unique                 NaN                NaN   \n",
              "top                    NaN                NaN   \n",
              "freq                   NaN                NaN   \n",
              "mean            200.619048         255.097561   \n",
              "std             465.428203         588.279262   \n",
              "min               1.000000           1.000000   \n",
              "25%              50.000000          62.000000   \n",
              "50%              80.000000         100.000000   \n",
              "75%             160.000000         200.000000   \n",
              "max            3000.000000        3750.000000   \n",
              "\n",
              "                                              source  \\\n",
              "count                                              4   \n",
              "unique                                             4   \n",
              "top     Foraging in the Desert\\nOasis\\n Cactus Seeds   \n",
              "freq                                               1   \n",
              "mean                                             NaN   \n",
              "std                                              NaN   \n",
              "min                                              NaN   \n",
              "25%                                              NaN   \n",
              "50%                                              NaN   \n",
              "75%                                              NaN   \n",
              "max                                              NaN   \n",
              "\n",
              "        traveling_cart_price_max  traveling_cart_price_min             xp  \\\n",
              "count                  36.000000                 36.000000             41   \n",
              "unique                       NaN                       NaN             31   \n",
              "top                          NaN                       NaN  14 Farming XP   \n",
              "freq                         NaN                       NaN              3   \n",
              "mean                 1041.666667                187.222222            NaN   \n",
              "std                   250.000000                254.312643            NaN   \n",
              "min                  1000.000000                100.000000            NaN   \n",
              "25%                  1000.000000                100.000000            NaN   \n",
              "50%                  1000.000000                100.000000            NaN   \n",
              "75%                  1000.000000                150.000000            NaN   \n",
              "max                  2500.000000               1500.000000            NaN   \n",
              "\n",
              "        spring summer   fall  winter  \n",
              "count       41     41     41      41  \n",
              "unique       2      2      2       1  \n",
              "top      False  False  False   False  \n",
              "freq        27     22     25      41  \n",
              "mean       NaN    NaN    NaN     NaN  \n",
              "std        NaN    NaN    NaN     NaN  \n",
              "min        NaN    NaN    NaN     NaN  \n",
              "25%        NaN    NaN    NaN     NaN  \n",
              "50%        NaN    NaN    NaN     NaN  \n",
              "75%        NaN    NaN    NaN     NaN  \n",
              "max        NaN    NaN    NaN     NaN  \n",
              "\n",
              "[11 rows x 25 columns]"
            ],
            "text/html": [
              "\n",
              "  <div id=\"df-a7c077b8-4903-42d0-97c0-4808c44783af\">\n",
              "    <div class=\"colab-df-container\">\n",
              "      <div>\n",
              "<style scoped>\n",
              "    .dataframe tbody tr th:only-of-type {\n",
              "        vertical-align: middle;\n",
              "    }\n",
              "\n",
              "    .dataframe tbody tr th {\n",
              "        vertical-align: top;\n",
              "    }\n",
              "\n",
              "    .dataframe thead th {\n",
              "        text-align: right;\n",
              "    }\n",
              "</style>\n",
              "<table border=\"1\" class=\"dataframe\">\n",
              "  <thead>\n",
              "    <tr style=\"text-align: right;\">\n",
              "      <th></th>\n",
              "      <th>name</th>\n",
              "      <th>Unnamed: 0</th>\n",
              "      <th>artisan_sell_price</th>\n",
              "      <th>base</th>\n",
              "      <th>description</th>\n",
              "      <th>egg_festival_price</th>\n",
              "      <th>energy</th>\n",
              "      <th>general_store_price</th>\n",
              "      <th>growth_time</th>\n",
              "      <th>jojamart_price</th>\n",
              "      <th>...</th>\n",
              "      <th>sell_price_regular</th>\n",
              "      <th>sell_price_silver</th>\n",
              "      <th>source</th>\n",
              "      <th>traveling_cart_price_max</th>\n",
              "      <th>traveling_cart_price_min</th>\n",
              "      <th>xp</th>\n",
              "      <th>spring</th>\n",
              "      <th>summer</th>\n",
              "      <th>fall</th>\n",
              "      <th>winter</th>\n",
              "    </tr>\n",
              "  </thead>\n",
              "  <tbody>\n",
              "    <tr>\n",
              "      <th>count</th>\n",
              "      <td>43</td>\n",
              "      <td>43.000000</td>\n",
              "      <td>1</td>\n",
              "      <td>39</td>\n",
              "      <td>43</td>\n",
              "      <td>1.0</td>\n",
              "      <td>7</td>\n",
              "      <td>29.000000</td>\n",
              "      <td>43.000000</td>\n",
              "      <td>24.000000</td>\n",
              "      <td>...</td>\n",
              "      <td>42.000000</td>\n",
              "      <td>41.000000</td>\n",
              "      <td>4</td>\n",
              "      <td>36.000000</td>\n",
              "      <td>36.000000</td>\n",
              "      <td>41</td>\n",
              "      <td>41</td>\n",
              "      <td>41</td>\n",
              "      <td>41</td>\n",
              "      <td>41</td>\n",
              "    </tr>\n",
              "    <tr>\n",
              "      <th>unique</th>\n",
              "      <td>43</td>\n",
              "      <td>NaN</td>\n",
              "      <td>1</td>\n",
              "      <td>1</td>\n",
              "      <td>43</td>\n",
              "      <td>NaN</td>\n",
              "      <td>1</td>\n",
              "      <td>NaN</td>\n",
              "      <td>NaN</td>\n",
              "      <td>NaN</td>\n",
              "      <td>...</td>\n",
              "      <td>NaN</td>\n",
              "      <td>NaN</td>\n",
              "      <td>4</td>\n",
              "      <td>NaN</td>\n",
              "      <td>NaN</td>\n",
              "      <td>31</td>\n",
              "      <td>2</td>\n",
              "      <td>2</td>\n",
              "      <td>2</td>\n",
              "      <td>1</td>\n",
              "    </tr>\n",
              "    <tr>\n",
              "      <th>top</th>\n",
              "      <td>Amaranth</td>\n",
              "      <td>NaN</td>\n",
              "      <td>150g</td>\n",
              "      <td>Artisan (+40%)</td>\n",
              "      <td>A purple grain cultivated by an ancient civili...</td>\n",
              "      <td>NaN</td>\n",
              "      <td>Inedible</td>\n",
              "      <td>NaN</td>\n",
              "      <td>NaN</td>\n",
              "      <td>NaN</td>\n",
              "      <td>...</td>\n",
              "      <td>NaN</td>\n",
              "      <td>NaN</td>\n",
              "      <td>Foraging in the Desert\\nOasis\\n Cactus Seeds</td>\n",
              "      <td>NaN</td>\n",
              "      <td>NaN</td>\n",
              "      <td>14 Farming XP</td>\n",
              "      <td>False</td>\n",
              "      <td>False</td>\n",
              "      <td>False</td>\n",
              "      <td>False</td>\n",
              "    </tr>\n",
              "    <tr>\n",
              "      <th>freq</th>\n",
              "      <td>1</td>\n",
              "      <td>NaN</td>\n",
              "      <td>1</td>\n",
              "      <td>39</td>\n",
              "      <td>1</td>\n",
              "      <td>NaN</td>\n",
              "      <td>7</td>\n",
              "      <td>NaN</td>\n",
              "      <td>NaN</td>\n",
              "      <td>NaN</td>\n",
              "      <td>...</td>\n",
              "      <td>NaN</td>\n",
              "      <td>NaN</td>\n",
              "      <td>1</td>\n",
              "      <td>NaN</td>\n",
              "      <td>NaN</td>\n",
              "      <td>3</td>\n",
              "      <td>27</td>\n",
              "      <td>22</td>\n",
              "      <td>25</td>\n",
              "      <td>41</td>\n",
              "    </tr>\n",
              "    <tr>\n",
              "      <th>mean</th>\n",
              "      <td>NaN</td>\n",
              "      <td>21.000000</td>\n",
              "      <td>NaN</td>\n",
              "      <td>NaN</td>\n",
              "      <td>NaN</td>\n",
              "      <td>100.0</td>\n",
              "      <td>NaN</td>\n",
              "      <td>73.793103</td>\n",
              "      <td>9.348837</td>\n",
              "      <td>90.958333</td>\n",
              "      <td>...</td>\n",
              "      <td>200.619048</td>\n",
              "      <td>255.097561</td>\n",
              "      <td>NaN</td>\n",
              "      <td>1041.666667</td>\n",
              "      <td>187.222222</td>\n",
              "      <td>NaN</td>\n",
              "      <td>NaN</td>\n",
              "      <td>NaN</td>\n",
              "      <td>NaN</td>\n",
              "      <td>NaN</td>\n",
              "    </tr>\n",
              "    <tr>\n",
              "      <th>std</th>\n",
              "      <td>NaN</td>\n",
              "      <td>12.556539</td>\n",
              "      <td>NaN</td>\n",
              "      <td>NaN</td>\n",
              "      <td>NaN</td>\n",
              "      <td>NaN</td>\n",
              "      <td>NaN</td>\n",
              "      <td>57.159788</td>\n",
              "      <td>5.406714</td>\n",
              "      <td>69.644738</td>\n",
              "      <td>...</td>\n",
              "      <td>465.428203</td>\n",
              "      <td>588.279262</td>\n",
              "      <td>NaN</td>\n",
              "      <td>250.000000</td>\n",
              "      <td>254.312643</td>\n",
              "      <td>NaN</td>\n",
              "      <td>NaN</td>\n",
              "      <td>NaN</td>\n",
              "      <td>NaN</td>\n",
              "      <td>NaN</td>\n",
              "    </tr>\n",
              "    <tr>\n",
              "      <th>min</th>\n",
              "      <td>NaN</td>\n",
              "      <td>0.000000</td>\n",
              "      <td>NaN</td>\n",
              "      <td>NaN</td>\n",
              "      <td>NaN</td>\n",
              "      <td>100.0</td>\n",
              "      <td>NaN</td>\n",
              "      <td>10.000000</td>\n",
              "      <td>0.000000</td>\n",
              "      <td>12.000000</td>\n",
              "      <td>...</td>\n",
              "      <td>1.000000</td>\n",
              "      <td>1.000000</td>\n",
              "      <td>NaN</td>\n",
              "      <td>1000.000000</td>\n",
              "      <td>100.000000</td>\n",
              "      <td>NaN</td>\n",
              "      <td>NaN</td>\n",
              "      <td>NaN</td>\n",
              "      <td>NaN</td>\n",
              "      <td>NaN</td>\n",
              "    </tr>\n",
              "    <tr>\n",
              "      <th>25%</th>\n",
              "      <td>NaN</td>\n",
              "      <td>10.500000</td>\n",
              "      <td>NaN</td>\n",
              "      <td>NaN</td>\n",
              "      <td>NaN</td>\n",
              "      <td>100.0</td>\n",
              "      <td>NaN</td>\n",
              "      <td>40.000000</td>\n",
              "      <td>6.000000</td>\n",
              "      <td>50.000000</td>\n",
              "      <td>...</td>\n",
              "      <td>50.000000</td>\n",
              "      <td>62.000000</td>\n",
              "      <td>NaN</td>\n",
              "      <td>1000.000000</td>\n",
              "      <td>100.000000</td>\n",
              "      <td>NaN</td>\n",
              "      <td>NaN</td>\n",
              "      <td>NaN</td>\n",
              "      <td>NaN</td>\n",
              "      <td>NaN</td>\n",
              "    </tr>\n",
              "    <tr>\n",
              "      <th>50%</th>\n",
              "      <td>NaN</td>\n",
              "      <td>21.000000</td>\n",
              "      <td>NaN</td>\n",
              "      <td>NaN</td>\n",
              "      <td>NaN</td>\n",
              "      <td>100.0</td>\n",
              "      <td>NaN</td>\n",
              "      <td>60.000000</td>\n",
              "      <td>8.000000</td>\n",
              "      <td>75.000000</td>\n",
              "      <td>...</td>\n",
              "      <td>80.000000</td>\n",
              "      <td>100.000000</td>\n",
              "      <td>NaN</td>\n",
              "      <td>1000.000000</td>\n",
              "      <td>100.000000</td>\n",
              "      <td>NaN</td>\n",
              "      <td>NaN</td>\n",
              "      <td>NaN</td>\n",
              "      <td>NaN</td>\n",
              "      <td>NaN</td>\n",
              "    </tr>\n",
              "    <tr>\n",
              "      <th>75%</th>\n",
              "      <td>NaN</td>\n",
              "      <td>31.500000</td>\n",
              "      <td>NaN</td>\n",
              "      <td>NaN</td>\n",
              "      <td>NaN</td>\n",
              "      <td>100.0</td>\n",
              "      <td>NaN</td>\n",
              "      <td>80.000000</td>\n",
              "      <td>12.000000</td>\n",
              "      <td>106.250000</td>\n",
              "      <td>...</td>\n",
              "      <td>160.000000</td>\n",
              "      <td>200.000000</td>\n",
              "      <td>NaN</td>\n",
              "      <td>1000.000000</td>\n",
              "      <td>150.000000</td>\n",
              "      <td>NaN</td>\n",
              "      <td>NaN</td>\n",
              "      <td>NaN</td>\n",
              "      <td>NaN</td>\n",
              "      <td>NaN</td>\n",
              "    </tr>\n",
              "    <tr>\n",
              "      <th>max</th>\n",
              "      <td>NaN</td>\n",
              "      <td>42.000000</td>\n",
              "      <td>NaN</td>\n",
              "      <td>NaN</td>\n",
              "      <td>NaN</td>\n",
              "      <td>100.0</td>\n",
              "      <td>NaN</td>\n",
              "      <td>240.000000</td>\n",
              "      <td>28.000000</td>\n",
              "      <td>300.000000</td>\n",
              "      <td>...</td>\n",
              "      <td>3000.000000</td>\n",
              "      <td>3750.000000</td>\n",
              "      <td>NaN</td>\n",
              "      <td>2500.000000</td>\n",
              "      <td>1500.000000</td>\n",
              "      <td>NaN</td>\n",
              "      <td>NaN</td>\n",
              "      <td>NaN</td>\n",
              "      <td>NaN</td>\n",
              "      <td>NaN</td>\n",
              "    </tr>\n",
              "  </tbody>\n",
              "</table>\n",
              "<p>11 rows × 25 columns</p>\n",
              "</div>\n",
              "      <button class=\"colab-df-convert\" onclick=\"convertToInteractive('df-a7c077b8-4903-42d0-97c0-4808c44783af')\"\n",
              "              title=\"Convert this dataframe to an interactive table.\"\n",
              "              style=\"display:none;\">\n",
              "        \n",
              "  <svg xmlns=\"http://www.w3.org/2000/svg\" height=\"24px\"viewBox=\"0 0 24 24\"\n",
              "       width=\"24px\">\n",
              "    <path d=\"M0 0h24v24H0V0z\" fill=\"none\"/>\n",
              "    <path d=\"M18.56 5.44l.94 2.06.94-2.06 2.06-.94-2.06-.94-.94-2.06-.94 2.06-2.06.94zm-11 1L8.5 8.5l.94-2.06 2.06-.94-2.06-.94L8.5 2.5l-.94 2.06-2.06.94zm10 10l.94 2.06.94-2.06 2.06-.94-2.06-.94-.94-2.06-.94 2.06-2.06.94z\"/><path d=\"M17.41 7.96l-1.37-1.37c-.4-.4-.92-.59-1.43-.59-.52 0-1.04.2-1.43.59L10.3 9.45l-7.72 7.72c-.78.78-.78 2.05 0 2.83L4 21.41c.39.39.9.59 1.41.59.51 0 1.02-.2 1.41-.59l7.78-7.78 2.81-2.81c.8-.78.8-2.07 0-2.86zM5.41 20L4 18.59l7.72-7.72 1.47 1.35L5.41 20z\"/>\n",
              "  </svg>\n",
              "      </button>\n",
              "      \n",
              "  <style>\n",
              "    .colab-df-container {\n",
              "      display:flex;\n",
              "      flex-wrap:wrap;\n",
              "      gap: 12px;\n",
              "    }\n",
              "\n",
              "    .colab-df-convert {\n",
              "      background-color: #E8F0FE;\n",
              "      border: none;\n",
              "      border-radius: 50%;\n",
              "      cursor: pointer;\n",
              "      display: none;\n",
              "      fill: #1967D2;\n",
              "      height: 32px;\n",
              "      padding: 0 0 0 0;\n",
              "      width: 32px;\n",
              "    }\n",
              "\n",
              "    .colab-df-convert:hover {\n",
              "      background-color: #E2EBFA;\n",
              "      box-shadow: 0px 1px 2px rgba(60, 64, 67, 0.3), 0px 1px 3px 1px rgba(60, 64, 67, 0.15);\n",
              "      fill: #174EA6;\n",
              "    }\n",
              "\n",
              "    [theme=dark] .colab-df-convert {\n",
              "      background-color: #3B4455;\n",
              "      fill: #D2E3FC;\n",
              "    }\n",
              "\n",
              "    [theme=dark] .colab-df-convert:hover {\n",
              "      background-color: #434B5C;\n",
              "      box-shadow: 0px 1px 3px 1px rgba(0, 0, 0, 0.15);\n",
              "      filter: drop-shadow(0px 1px 2px rgba(0, 0, 0, 0.3));\n",
              "      fill: #FFFFFF;\n",
              "    }\n",
              "  </style>\n",
              "\n",
              "      <script>\n",
              "        const buttonEl =\n",
              "          document.querySelector('#df-a7c077b8-4903-42d0-97c0-4808c44783af button.colab-df-convert');\n",
              "        buttonEl.style.display =\n",
              "          google.colab.kernel.accessAllowed ? 'block' : 'none';\n",
              "\n",
              "        async function convertToInteractive(key) {\n",
              "          const element = document.querySelector('#df-a7c077b8-4903-42d0-97c0-4808c44783af');\n",
              "          const dataTable =\n",
              "            await google.colab.kernel.invokeFunction('convertToInteractive',\n",
              "                                                     [key], {});\n",
              "          if (!dataTable) return;\n",
              "\n",
              "          const docLinkHtml = 'Like what you see? Visit the ' +\n",
              "            '<a target=\"_blank\" href=https://colab.research.google.com/notebooks/data_table.ipynb>data table notebook</a>'\n",
              "            + ' to learn more about interactive tables.';\n",
              "          element.innerHTML = '';\n",
              "          dataTable['output_type'] = 'display_data';\n",
              "          await google.colab.output.renderOutput(dataTable, element);\n",
              "          const docLink = document.createElement('div');\n",
              "          docLink.innerHTML = docLinkHtml;\n",
              "          element.appendChild(docLink);\n",
              "        }\n",
              "      </script>\n",
              "    </div>\n",
              "  </div>\n",
              "  "
            ]
          },
          "metadata": {},
          "execution_count": 44
        }
      ]
    },
    {
      "cell_type": "code",
      "source": [
        "(\n",
        "    df\n",
        "    .species\n",
        "    .value_counts()\n",
        "    .plot(\n",
        "        kind = 'bar'\n",
        "    )\n",
        ")"
      ],
      "metadata": {
        "id": "idZm6lgGZOvi"
      },
      "execution_count": null,
      "outputs": []
    },
    {
      "cell_type": "code",
      "source": [
        "df['growth_time'] = (\n",
        "    df\n",
        "    .growth_time\n",
        "    .fillna('0')\n",
        "    .apply(lambda i: i.split(' ')[0])\n",
        "    .astype(int)\n",
        ")"
      ],
      "metadata": {
        "id": "ydiQO3riOlSm"
      },
      "execution_count": null,
      "outputs": []
    },
    {
      "cell_type": "code",
      "source": [
        "df.to_csv('crops.csv')"
      ],
      "metadata": {
        "id": "l0zAv0FfOng0"
      },
      "execution_count": null,
      "outputs": []
    },
    {
      "cell_type": "markdown",
      "source": [
        "**Deleting the Ginger Island crops**\n",
        "\n",
        "I deleted the Ginger Island crops because you can't buy the seed in the stores. You can trade they but it's more difficult to compare the price of the trade with gold. The Ginger Island crops are:\n",
        "\n",
        "* Taro roots\n",
        "* Pineapple\n",
        "\n",
        "Also, I deleted some crops in similar situations, like:\n",
        "\n",
        "* Tea Leaves\n",
        "* Sweet Gem Berry\n",
        "* Mixed Seeds\n",
        "* Fiber\n",
        "* Cactus Fruit\n",
        "* Strawberry\n",
        "* Coffee Bean\n",
        "\n",
        "\n"
      ],
      "metadata": {
        "id": "k88zcGYHOqb_"
      }
    },
    {
      "cell_type": "code",
      "source": [
        "df = df.drop(df[df['name'] == 'Taro Root'].index)\n",
        "df = df.drop(df[df['name'] == 'Pineapple'].index)\n",
        "\n",
        "df = df.drop(df[df['name'] == 'Tea Leaves'].index)\n",
        "df = df.drop(df[df['name'] == 'Sweet Gem Berry'].index)\n",
        "df = df.drop(df[df['name'] == 'Mixed Seeds'].index)\n",
        "df = df.drop(df[df['name'] == 'Fiber'].index)\n",
        "df = df.drop(df[df['name'] == 'Cactus Fruit'].index)\n",
        "df = df.drop(df[df['name'] == 'Strawberry'].index)\n",
        "df = df.drop(df[df['name'] == 'Coffee Bean'].index)"
      ],
      "metadata": {
        "id": "pbIq5bDzOsiI"
      },
      "execution_count": null,
      "outputs": []
    },
    {
      "cell_type": "code",
      "source": [
        "df['price_min'] = df[['night_market_price', 'oasis_price', 'general_store_price', 'jojamart_price', 'traveling_cart_price_min']].min(axis=1)"
      ],
      "metadata": {
        "id": "Ovlmqwa1OvHg"
      },
      "execution_count": null,
      "outputs": []
    },
    {
      "cell_type": "code",
      "source": [
        "df[['name', 'sell_price_regular', 'growth_time', 'price_min']].head()"
      ],
      "metadata": {
        "id": "0-vfR6Z4Ow03"
      },
      "execution_count": null,
      "outputs": []
    },
    {
      "cell_type": "code",
      "source": [
        "df['gold_per_day'] = ( df['sell_price_iridium'] - df['price_min'])  / df['growth_time']"
      ],
      "metadata": {
        "id": "VNLfKhj4Oyn9"
      },
      "execution_count": null,
      "outputs": []
    },
    {
      "cell_type": "code",
      "source": [
        "df[df['spring'] == 'True'][['name', 'sell_price_iridium', 'growth_time', 'price_min', 'gold_per_day']].sort_values('gold_per_day', ascending = False)"
      ],
      "metadata": {
        "id": "qe6HsN1pO1JR"
      },
      "execution_count": null,
      "outputs": []
    }
  ]
}