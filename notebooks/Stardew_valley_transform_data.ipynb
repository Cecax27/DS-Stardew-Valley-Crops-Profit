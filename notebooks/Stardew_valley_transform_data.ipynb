{
  "cells": [
    {
      "cell_type": "markdown",
      "metadata": {
        "colab_type": "text",
        "id": "view-in-github"
      },
      "source": [
        "<a href=\"https://colab.research.google.com/github/Cecax27/DS-Stardew-Valley-Crops-Profit/blob/main/notebooks/Stardew_valley_transform_data.ipynb\" target=\"_parent\"><img src=\"https://colab.research.google.com/assets/colab-badge.svg\" alt=\"Open In Colab\"/></a>"
      ]
    },
    {
      "cell_type": "markdown",
      "metadata": {
        "id": "wE3evqTVRcF3"
      },
      "source": [
        "# Transform data\n",
        "\n",
        "Previously, I extracted information from Stardew Valley Wiki about the crops and theirs seeds. You can see the notebook on: [Stardew_valley_web_scraper.ipynb](https://github.com/Cecax27/DS-Stardew-Valley-Crops-Profit/blob/main/notebooks/Stardew_valley_web_scraper.ipynb)\n",
        "\n",
        "In this notebook I'll transform and clean the data to start to making analysis.\n",
        "\n",
        "The url of the website is https://stardewvalleywiki.com. You can visit it to find a lot of information about the game.\n",
        "\n",
        "## Importing libraries"
      ]
    },
    {
      "cell_type": "code",
      "execution_count": 29,
      "metadata": {
        "id": "6gp7nj8uSH0_"
      },
      "outputs": [],
      "source": [
        "import pandas as pd\n",
        "import numpy as np\n",
        "import matplotlib.pyplot as plt\n",
        "import seaborn as sns\n",
        "from pprint import pprint"
      ]
    },
    {
      "cell_type": "code",
      "execution_count": 30,
      "metadata": {
        "id": "4Q-j_8nXYNXq"
      },
      "outputs": [],
      "source": [
        "%matplotlib inline\n",
        "sns.set_style(style='whitegrid')\n",
        "sns.set_context(context='notebook')\n",
        "plt.rcParams['figure.figsize'] = (7, 5)"
      ]
    },
    {
      "cell_type": "markdown",
      "metadata": {
        "id": "4nMPeA-nSLWc"
      },
      "source": [
        "## Loading data from csv"
      ]
    },
    {
      "cell_type": "code",
      "execution_count": 31,
      "metadata": {
        "colab": {
          "base_uri": "https://localhost:8080/"
        },
        "id": "VYbzwuBFSOs1",
        "outputId": "10f96581-6903-42e4-c2e0-f71c5ef7cbda"
      },
      "outputs": [
        {
          "name": "stdout",
          "output_type": "stream",
          "text": [
            "DataFrame created with 43 rows and 27 columns\n",
            "\n",
            "Columns:\n",
            "Unnamed: 0                    int64\n",
            "growth_time                  object\n",
            "source                       object\n",
            "sell_prices_silver          float64\n",
            "seed                         object\n",
            "sell_prices_gold            float64\n",
            "description                  object\n",
            "general_store_price         float64\n",
            "night_market_price          float64\n",
            "sell_price_regular          float64\n",
            "egg_festival_price          float64\n",
            "sell_price_silver           float64\n",
            "traveling_cart_price_min    float64\n",
            "sell_prices_iridium         float64\n",
            "sell_price_iridium          float64\n",
            "artisan_sell_price           object\n",
            "sell_price_gold             float64\n",
            "sell_prices_regular         float64\n",
            "traveling_cart_price_max    float64\n",
            "regrowth_time               float64\n",
            "base                         object\n",
            "oasis_price                 float64\n",
            "xp                           object\n",
            "energy                       object\n",
            "season                       object\n",
            "jojamart_price              float64\n",
            "name                         object\n",
            "dtype: object\n"
          ]
        }
      ],
      "source": [
        "df = pd.read_csv('../data/crops_raw_data.csv')\n",
        "\n",
        "print(f'DataFrame created with {df.shape[0]} rows and {df.shape[1]} columns\\n')\n",
        "print('Columns:')\n",
        "print(df.dtypes)"
      ]
    },
    {
      "cell_type": "markdown",
      "metadata": {
        "id": "clGZ_HLmTZzq"
      },
      "source": [
        "## Transform data\n",
        "\n",
        "Seeing the columns, I can start thinking about first modifications.\n",
        "\n",
        "* I want to have the name column as the first. And the other ones ordered by alphabet.\n",
        "* I have one column \"sell_price_regular\" and another \"sell_prices_regular\". The same for all the qualities. I will join both columns.\n",
        "* I have in the column \"season\" a string with the seasons of each crop. I will divide the column in each season, like \"spring\", etc. And fill them with booleans values."
      ]
    },
    {
      "cell_type": "code",
      "execution_count": 32,
      "metadata": {
        "id": "HpZf2XCmUySj"
      },
      "outputs": [],
      "source": [
        "# Ordering columns by alphabet\n",
        "df = df.sort_index(axis=1)\n",
        "\n",
        "# Changing 'name' column first\n",
        "name_column = df.pop('name')\n",
        "df.insert(0, 'name', name_column)\n",
        "\n",
        "# Sorting the rows oby alphabet\n",
        "df = df.sort_values('name')"
      ]
    },
    {
      "cell_type": "code",
      "execution_count": 33,
      "metadata": {
        "id": "2KxMpWWBOSBO"
      },
      "outputs": [],
      "source": [
        "# Joining the sell_price columns\n",
        "df['sell_price_regular'] = df['sell_price_regular'].combine_first(df['sell_prices_regular'])\n",
        "df = df.drop('sell_prices_regular', axis=1)\n",
        "\n",
        "df['sell_price_silver'] = df['sell_price_silver'].combine_first(df['sell_prices_silver'])\n",
        "df = df.drop('sell_prices_silver', axis=1)\n",
        "\n",
        "df['sell_price_gold'] = df['sell_price_gold'].combine_first(df['sell_prices_gold'])\n",
        "df = df.drop('sell_prices_gold', axis=1)\n",
        "\n",
        "df['sell_price_iridium'] = df['sell_price_iridium'].combine_first(df['sell_prices_iridium'])\n",
        "df = df.drop('sell_prices_iridium', axis=1)"
      ]
    },
    {
      "cell_type": "code",
      "execution_count": 34,
      "metadata": {
        "id": "EsHvSrMaVihJ"
      },
      "outputs": [],
      "source": [
        "# Creating separate columns for each season\n",
        "seasons = ['Spring', 'Summer', 'Fall', 'Winter']\n",
        "for season in seasons:\n",
        "    df[season.lower()] = df['season'].str.contains(season, case=False)\n",
        "\n",
        "# Fill the values with True or False\n",
        "df = df.replace({True: 'True', False: 'False'})\n",
        "df = df.drop('season', axis=1)"
      ]
    },
    {
      "cell_type": "code",
      "execution_count": 35,
      "metadata": {
        "id": "1-hs4mm-cxJq"
      },
      "outputs": [],
      "source": [
        "# Converting growth time to int\n",
        "df['growth_time'] = (\n",
        "    df\n",
        "    .growth_time\n",
        "    .fillna('0')\n",
        "    .apply(lambda i: i.split(' ')[0])\n",
        "    .astype(int)\n",
        ")"
      ]
    },
    {
      "cell_type": "code",
      "execution_count": 36,
      "metadata": {},
      "outputs": [],
      "source": [
        "# Converting regrowth time to int\n",
        "df['regrowth_time'] = (\n",
        "    df\n",
        "    .regrowth_time\n",
        "    .fillna('0')\n",
        "    .astype(int)\n",
        ")"
      ]
    },
    {
      "cell_type": "code",
      "execution_count": 37,
      "metadata": {
        "colab": {
          "base_uri": "https://localhost:8080/"
        },
        "id": "Bv45LIuXVzDF",
        "outputId": "d0b74004-89a9-49f8-ffff-ee535798711e"
      },
      "outputs": [
        {
          "name": "stdout",
          "output_type": "stream",
          "text": [
            "DataFrame have 43 rows and 26 columns\n",
            "\n",
            "Columns:\n",
            "name                         object\n",
            "Unnamed: 0                    int64\n",
            "artisan_sell_price           object\n",
            "base                         object\n",
            "description                  object\n",
            "egg_festival_price          float64\n",
            "energy                       object\n",
            "general_store_price         float64\n",
            "growth_time                   int32\n",
            "jojamart_price              float64\n",
            "night_market_price          float64\n",
            "oasis_price                 float64\n",
            "regrowth_time                 int32\n",
            "seed                         object\n",
            "sell_price_gold             float64\n",
            "sell_price_iridium          float64\n",
            "sell_price_regular          float64\n",
            "sell_price_silver           float64\n",
            "source                       object\n",
            "traveling_cart_price_max    float64\n",
            "traveling_cart_price_min    float64\n",
            "xp                           object\n",
            "spring                       object\n",
            "summer                       object\n",
            "fall                         object\n",
            "winter                       object\n",
            "dtype: object\n"
          ]
        }
      ],
      "source": [
        "print(f'DataFrame have {df.shape[0]} rows and {df.shape[1]} columns\\n')\n",
        "print('Columns:')\n",
        "print(df.dtypes)"
      ]
    },
    {
      "cell_type": "markdown",
      "metadata": {
        "id": "bFidvz6tWt3A"
      },
      "source": [
        "## Cleaning data"
      ]
    },
    {
      "cell_type": "code",
      "execution_count": 38,
      "metadata": {},
      "outputs": [
        {
          "data": {
            "text/plain": [
              "25    25\n",
              "35    35\n",
              "26    26\n",
              "27    27\n",
              "0      0\n",
              "12    12\n",
              "28    28\n",
              "36    36\n",
              "1      1\n",
              "2      2\n",
              "13    13\n",
              "29    29\n",
              "30    30\n",
              "31    31\n",
              "37    37\n",
              "3      3\n",
              "32    32\n",
              "4      4\n",
              "14    14\n",
              "15    15\n",
              "5      5\n",
              "16    16\n",
              "38    38\n",
              "6      6\n",
              "39    39\n",
              "17    17\n",
              "7      7\n",
              "33    33\n",
              "18    18\n",
              "19    19\n",
              "8      8\n",
              "20    20\n",
              "9      9\n",
              "21    21\n",
              "22    22\n",
              "41    41\n",
              "40    40\n",
              "42    42\n",
              "23    23\n",
              "10    10\n",
              "11    11\n",
              "24    24\n",
              "34    34\n",
              "Name: Unnamed: 0, dtype: int64"
            ]
          },
          "execution_count": 38,
          "metadata": {},
          "output_type": "execute_result"
        }
      ],
      "source": [
        "# Deleting unnamed column (indexes)\n",
        "df.pop('Unnamed: 0')"
      ]
    },
    {
      "cell_type": "code",
      "execution_count": 39,
      "metadata": {
        "colab": {
          "base_uri": "https://localhost:8080/"
        },
        "id": "_jML_bq-W4zz",
        "outputId": "e4198c85-efcd-401e-e5a7-0ec87d29b5e2"
      },
      "outputs": [
        {
          "data": {
            "text/plain": [
              "name                         0\n",
              "artisan_sell_price          42\n",
              "base                         4\n",
              "description                  0\n",
              "egg_festival_price          42\n",
              "energy                      36\n",
              "general_store_price         14\n",
              "growth_time                  0\n",
              "jojamart_price              19\n",
              "night_market_price          35\n",
              "oasis_price                 40\n",
              "regrowth_time                0\n",
              "seed                         2\n",
              "sell_price_gold              2\n",
              "sell_price_iridium           2\n",
              "sell_price_regular           1\n",
              "sell_price_silver            2\n",
              "source                      39\n",
              "traveling_cart_price_max     7\n",
              "traveling_cart_price_min     7\n",
              "xp                           2\n",
              "spring                       2\n",
              "summer                       2\n",
              "fall                         2\n",
              "winter                       2\n",
              "dtype: int64"
            ]
          },
          "execution_count": 39,
          "metadata": {},
          "output_type": "execute_result"
        }
      ],
      "source": [
        "# Wich columns have null values?\n",
        "(\n",
        "    df\n",
        "    .isnull()\n",
        "    .sum()\n",
        ")"
      ]
    },
    {
      "cell_type": "code",
      "execution_count": 40,
      "metadata": {
        "colab": {
          "base_uri": "https://localhost:8080/",
          "height": 519
        },
        "id": "Q520kOvgXkL6",
        "outputId": "69c92560-a6ad-4134-eca3-f9424d1aab20"
      },
      "outputs": [
        {
          "data": {
            "text/plain": [
              "<seaborn.axisgrid.FacetGrid at 0x171bbc24fa0>"
            ]
          },
          "execution_count": 40,
          "metadata": {},
          "output_type": "execute_result"
        },
        {
          "data": {
            "image/png": "[encoded data removed]",
            "text/plain": [
              "<Figure size 1092.5x500 with 1 Axes>"
            ]
          },
          "metadata": {},
          "output_type": "display_data"
        }
      ],
      "source": [
        "# Null values proportion for each variable\n",
        "(\n",
        "    df\n",
        "    .isnull()\n",
        "    .melt()\n",
        "    .pipe(\n",
        "        lambda df: (\n",
        "            sns.displot(\n",
        "                data = df,\n",
        "                y = 'variable',\n",
        "                hue = 'value',\n",
        "                multiple = 'fill',\n",
        "                aspect = 2\n",
        "            )\n",
        "        )\n",
        "    )\n",
        ")"
      ]
    },
    {
      "cell_type": "code",
      "execution_count": 41,
      "metadata": {
        "colab": {
          "base_uri": "https://localhost:8080/",
          "height": 575
        },
        "id": "9JodT4_RYzUE",
        "outputId": "a2fd518d-949a-4575-a8c3-3a6b3335ae7d"
      },
      "outputs": [
        {
          "data": {
            "text/html": [
              "<div>\n",
              "<style scoped>\n",
              "    .dataframe tbody tr th:only-of-type {\n",
              "        vertical-align: middle;\n",
              "    }\n",
              "\n",
              "    .dataframe tbody tr th {\n",
              "        vertical-align: top;\n",
              "    }\n",
              "\n",
              "    .dataframe thead th {\n",
              "        text-align: right;\n",
              "    }\n",
              "</style>\n",
              "<table border=\"1\" class=\"dataframe\">\n",
              "  <thead>\n",
              "    <tr style=\"text-align: right;\">\n",
              "      <th></th>\n",
              "      <th>name</th>\n",
              "      <th>artisan_sell_price</th>\n",
              "      <th>base</th>\n",
              "      <th>description</th>\n",
              "      <th>egg_festival_price</th>\n",
              "      <th>energy</th>\n",
              "      <th>general_store_price</th>\n",
              "      <th>growth_time</th>\n",
              "      <th>jojamart_price</th>\n",
              "      <th>night_market_price</th>\n",
              "      <th>...</th>\n",
              "      <th>sell_price_regular</th>\n",
              "      <th>sell_price_silver</th>\n",
              "      <th>source</th>\n",
              "      <th>traveling_cart_price_max</th>\n",
              "      <th>traveling_cart_price_min</th>\n",
              "      <th>xp</th>\n",
              "      <th>spring</th>\n",
              "      <th>summer</th>\n",
              "      <th>fall</th>\n",
              "      <th>winter</th>\n",
              "    </tr>\n",
              "  </thead>\n",
              "  <tbody>\n",
              "    <tr>\n",
              "      <th>count</th>\n",
              "      <td>43</td>\n",
              "      <td>1</td>\n",
              "      <td>39</td>\n",
              "      <td>43</td>\n",
              "      <td>1.0</td>\n",
              "      <td>7</td>\n",
              "      <td>29.000000</td>\n",
              "      <td>43.000000</td>\n",
              "      <td>24.000000</td>\n",
              "      <td>8.000000</td>\n",
              "      <td>...</td>\n",
              "      <td>42.000000</td>\n",
              "      <td>41.000000</td>\n",
              "      <td>4</td>\n",
              "      <td>36.000000</td>\n",
              "      <td>36.000000</td>\n",
              "      <td>41</td>\n",
              "      <td>41</td>\n",
              "      <td>41</td>\n",
              "      <td>41</td>\n",
              "      <td>41</td>\n",
              "    </tr>\n",
              "    <tr>\n",
              "      <th>unique</th>\n",
              "      <td>43</td>\n",
              "      <td>1</td>\n",
              "      <td>1</td>\n",
              "      <td>43</td>\n",
              "      <td>NaN</td>\n",
              "      <td>1</td>\n",
              "      <td>NaN</td>\n",
              "      <td>NaN</td>\n",
              "      <td>NaN</td>\n",
              "      <td>NaN</td>\n",
              "      <td>...</td>\n",
              "      <td>NaN</td>\n",
              "      <td>NaN</td>\n",
              "      <td>4</td>\n",
              "      <td>NaN</td>\n",
              "      <td>NaN</td>\n",
              "      <td>31</td>\n",
              "      <td>2</td>\n",
              "      <td>2</td>\n",
              "      <td>2</td>\n",
              "      <td>1</td>\n",
              "    </tr>\n",
              "    <tr>\n",
              "      <th>top</th>\n",
              "      <td>Amaranth</td>\n",
              "      <td>150g</td>\n",
              "      <td>Artisan (+40%)</td>\n",
              "      <td>A purple grain cultivated by an ancient civili...</td>\n",
              "      <td>NaN</td>\n",
              "      <td>Inedible</td>\n",
              "      <td>NaN</td>\n",
              "      <td>NaN</td>\n",
              "      <td>NaN</td>\n",
              "      <td>NaN</td>\n",
              "      <td>...</td>\n",
              "      <td>NaN</td>\n",
              "      <td>NaN</td>\n",
              "      <td>Foraging in the Desert\\nOasis\\n Cactus Seeds</td>\n",
              "      <td>NaN</td>\n",
              "      <td>NaN</td>\n",
              "      <td>14 Farming XP</td>\n",
              "      <td>False</td>\n",
              "      <td>False</td>\n",
              "      <td>False</td>\n",
              "      <td>False</td>\n",
              "    </tr>\n",
              "    <tr>\n",
              "      <th>freq</th>\n",
              "      <td>1</td>\n",
              "      <td>1</td>\n",
              "      <td>39</td>\n",
              "      <td>1</td>\n",
              "      <td>NaN</td>\n",
              "      <td>7</td>\n",
              "      <td>NaN</td>\n",
              "      <td>NaN</td>\n",
              "      <td>NaN</td>\n",
              "      <td>NaN</td>\n",
              "      <td>...</td>\n",
              "      <td>NaN</td>\n",
              "      <td>NaN</td>\n",
              "      <td>1</td>\n",
              "      <td>NaN</td>\n",
              "      <td>NaN</td>\n",
              "      <td>3</td>\n",
              "      <td>27</td>\n",
              "      <td>22</td>\n",
              "      <td>25</td>\n",
              "      <td>41</td>\n",
              "    </tr>\n",
              "    <tr>\n",
              "      <th>mean</th>\n",
              "      <td>NaN</td>\n",
              "      <td>NaN</td>\n",
              "      <td>NaN</td>\n",
              "      <td>NaN</td>\n",
              "      <td>100.0</td>\n",
              "      <td>NaN</td>\n",
              "      <td>73.793103</td>\n",
              "      <td>9.348837</td>\n",
              "      <td>90.958333</td>\n",
              "      <td>46.250000</td>\n",
              "      <td>...</td>\n",
              "      <td>200.619048</td>\n",
              "      <td>255.097561</td>\n",
              "      <td>NaN</td>\n",
              "      <td>1041.666667</td>\n",
              "      <td>187.222222</td>\n",
              "      <td>NaN</td>\n",
              "      <td>NaN</td>\n",
              "      <td>NaN</td>\n",
              "      <td>NaN</td>\n",
              "      <td>NaN</td>\n",
              "    </tr>\n",
              "    <tr>\n",
              "      <th>std</th>\n",
              "      <td>NaN</td>\n",
              "      <td>NaN</td>\n",
              "      <td>NaN</td>\n",
              "      <td>NaN</td>\n",
              "      <td>NaN</td>\n",
              "      <td>NaN</td>\n",
              "      <td>57.159788</td>\n",
              "      <td>5.406714</td>\n",
              "      <td>69.644738</td>\n",
              "      <td>22.638463</td>\n",
              "      <td>...</td>\n",
              "      <td>465.428203</td>\n",
              "      <td>588.279262</td>\n",
              "      <td>NaN</td>\n",
              "      <td>250.000000</td>\n",
              "      <td>254.312643</td>\n",
              "      <td>NaN</td>\n",
              "      <td>NaN</td>\n",
              "      <td>NaN</td>\n",
              "      <td>NaN</td>\n",
              "      <td>NaN</td>\n",
              "    </tr>\n",
              "    <tr>\n",
              "      <th>min</th>\n",
              "      <td>NaN</td>\n",
              "      <td>NaN</td>\n",
              "      <td>NaN</td>\n",
              "      <td>NaN</td>\n",
              "      <td>100.0</td>\n",
              "      <td>NaN</td>\n",
              "      <td>10.000000</td>\n",
              "      <td>0.000000</td>\n",
              "      <td>12.000000</td>\n",
              "      <td>20.000000</td>\n",
              "      <td>...</td>\n",
              "      <td>1.000000</td>\n",
              "      <td>1.000000</td>\n",
              "      <td>NaN</td>\n",
              "      <td>1000.000000</td>\n",
              "      <td>100.000000</td>\n",
              "      <td>NaN</td>\n",
              "      <td>NaN</td>\n",
              "      <td>NaN</td>\n",
              "      <td>NaN</td>\n",
              "      <td>NaN</td>\n",
              "    </tr>\n",
              "    <tr>\n",
              "      <th>25%</th>\n",
              "      <td>NaN</td>\n",
              "      <td>NaN</td>\n",
              "      <td>NaN</td>\n",
              "      <td>NaN</td>\n",
              "      <td>100.0</td>\n",
              "      <td>NaN</td>\n",
              "      <td>40.000000</td>\n",
              "      <td>6.000000</td>\n",
              "      <td>50.000000</td>\n",
              "      <td>27.500000</td>\n",
              "      <td>...</td>\n",
              "      <td>50.000000</td>\n",
              "      <td>62.000000</td>\n",
              "      <td>NaN</td>\n",
              "      <td>1000.000000</td>\n",
              "      <td>100.000000</td>\n",
              "      <td>NaN</td>\n",
              "      <td>NaN</td>\n",
              "      <td>NaN</td>\n",
              "      <td>NaN</td>\n",
              "      <td>NaN</td>\n",
              "    </tr>\n",
              "    <tr>\n",
              "      <th>50%</th>\n",
              "      <td>NaN</td>\n",
              "      <td>NaN</td>\n",
              "      <td>NaN</td>\n",
              "      <td>NaN</td>\n",
              "      <td>100.0</td>\n",
              "      <td>NaN</td>\n",
              "      <td>60.000000</td>\n",
              "      <td>8.000000</td>\n",
              "      <td>75.000000</td>\n",
              "      <td>45.000000</td>\n",
              "      <td>...</td>\n",
              "      <td>80.000000</td>\n",
              "      <td>100.000000</td>\n",
              "      <td>NaN</td>\n",
              "      <td>1000.000000</td>\n",
              "      <td>100.000000</td>\n",
              "      <td>NaN</td>\n",
              "      <td>NaN</td>\n",
              "      <td>NaN</td>\n",
              "      <td>NaN</td>\n",
              "      <td>NaN</td>\n",
              "    </tr>\n",
              "    <tr>\n",
              "      <th>75%</th>\n",
              "      <td>NaN</td>\n",
              "      <td>NaN</td>\n",
              "      <td>NaN</td>\n",
              "      <td>NaN</td>\n",
              "      <td>100.0</td>\n",
              "      <td>NaN</td>\n",
              "      <td>80.000000</td>\n",
              "      <td>12.000000</td>\n",
              "      <td>106.250000</td>\n",
              "      <td>62.500000</td>\n",
              "      <td>...</td>\n",
              "      <td>160.000000</td>\n",
              "      <td>200.000000</td>\n",
              "      <td>NaN</td>\n",
              "      <td>1000.000000</td>\n",
              "      <td>150.000000</td>\n",
              "      <td>NaN</td>\n",
              "      <td>NaN</td>\n",
              "      <td>NaN</td>\n",
              "      <td>NaN</td>\n",
              "      <td>NaN</td>\n",
              "    </tr>\n",
              "    <tr>\n",
              "      <th>max</th>\n",
              "      <td>NaN</td>\n",
              "      <td>NaN</td>\n",
              "      <td>NaN</td>\n",
              "      <td>NaN</td>\n",
              "      <td>100.0</td>\n",
              "      <td>NaN</td>\n",
              "      <td>240.000000</td>\n",
              "      <td>28.000000</td>\n",
              "      <td>300.000000</td>\n",
              "      <td>80.000000</td>\n",
              "      <td>...</td>\n",
              "      <td>3000.000000</td>\n",
              "      <td>3750.000000</td>\n",
              "      <td>NaN</td>\n",
              "      <td>2500.000000</td>\n",
              "      <td>1500.000000</td>\n",
              "      <td>NaN</td>\n",
              "      <td>NaN</td>\n",
              "      <td>NaN</td>\n",
              "      <td>NaN</td>\n",
              "      <td>NaN</td>\n",
              "    </tr>\n",
              "  </tbody>\n",
              "</table>\n",
              "<p>11 rows × 25 columns</p>\n",
              "</div>"
            ],
            "text/plain": [
              "            name artisan_sell_price            base   \n",
              "count         43                  1              39  \\\n",
              "unique        43                  1               1   \n",
              "top     Amaranth               150g  Artisan (+40%)   \n",
              "freq           1                  1              39   \n",
              "mean         NaN                NaN             NaN   \n",
              "std          NaN                NaN             NaN   \n",
              "min          NaN                NaN             NaN   \n",
              "25%          NaN                NaN             NaN   \n",
              "50%          NaN                NaN             NaN   \n",
              "75%          NaN                NaN             NaN   \n",
              "max          NaN                NaN             NaN   \n",
              "\n",
              "                                              description  egg_festival_price   \n",
              "count                                                  43                 1.0  \\\n",
              "unique                                                 43                 NaN   \n",
              "top     A purple grain cultivated by an ancient civili...                 NaN   \n",
              "freq                                                    1                 NaN   \n",
              "mean                                                  NaN               100.0   \n",
              "std                                                   NaN                 NaN   \n",
              "min                                                   NaN               100.0   \n",
              "25%                                                   NaN               100.0   \n",
              "50%                                                   NaN               100.0   \n",
              "75%                                                   NaN               100.0   \n",
              "max                                                   NaN               100.0   \n",
              "\n",
              "          energy  general_store_price  growth_time  jojamart_price   \n",
              "count          7            29.000000    43.000000       24.000000  \\\n",
              "unique         1                  NaN          NaN             NaN   \n",
              "top     Inedible                  NaN          NaN             NaN   \n",
              "freq           7                  NaN          NaN             NaN   \n",
              "mean         NaN            73.793103     9.348837       90.958333   \n",
              "std          NaN            57.159788     5.406714       69.644738   \n",
              "min          NaN            10.000000     0.000000       12.000000   \n",
              "25%          NaN            40.000000     6.000000       50.000000   \n",
              "50%          NaN            60.000000     8.000000       75.000000   \n",
              "75%          NaN            80.000000    12.000000      106.250000   \n",
              "max          NaN           240.000000    28.000000      300.000000   \n",
              "\n",
              "        night_market_price  ...  sell_price_regular  sell_price_silver   \n",
              "count             8.000000  ...           42.000000          41.000000  \\\n",
              "unique                 NaN  ...                 NaN                NaN   \n",
              "top                    NaN  ...                 NaN                NaN   \n",
              "freq                   NaN  ...                 NaN                NaN   \n",
              "mean             46.250000  ...          200.619048         255.097561   \n",
              "std              22.638463  ...          465.428203         588.279262   \n",
              "min              20.000000  ...            1.000000           1.000000   \n",
              "25%              27.500000  ...           50.000000          62.000000   \n",
              "50%              45.000000  ...           80.000000         100.000000   \n",
              "75%              62.500000  ...          160.000000         200.000000   \n",
              "max              80.000000  ...         3000.000000        3750.000000   \n",
              "\n",
              "                                              source   \n",
              "count                                              4  \\\n",
              "unique                                             4   \n",
              "top     Foraging in the Desert\\nOasis\\n Cactus Seeds   \n",
              "freq                                               1   \n",
              "mean                                             NaN   \n",
              "std                                              NaN   \n",
              "min                                              NaN   \n",
              "25%                                              NaN   \n",
              "50%                                              NaN   \n",
              "75%                                              NaN   \n",
              "max                                              NaN   \n",
              "\n",
              "        traveling_cart_price_max  traveling_cart_price_min             xp   \n",
              "count                  36.000000                 36.000000             41  \\\n",
              "unique                       NaN                       NaN             31   \n",
              "top                          NaN                       NaN  14 Farming XP   \n",
              "freq                         NaN                       NaN              3   \n",
              "mean                 1041.666667                187.222222            NaN   \n",
              "std                   250.000000                254.312643            NaN   \n",
              "min                  1000.000000                100.000000            NaN   \n",
              "25%                  1000.000000                100.000000            NaN   \n",
              "50%                  1000.000000                100.000000            NaN   \n",
              "75%                  1000.000000                150.000000            NaN   \n",
              "max                  2500.000000               1500.000000            NaN   \n",
              "\n",
              "        spring summer   fall  winter  \n",
              "count       41     41     41      41  \n",
              "unique       2      2      2       1  \n",
              "top      False  False  False   False  \n",
              "freq        27     22     25      41  \n",
              "mean       NaN    NaN    NaN     NaN  \n",
              "std        NaN    NaN    NaN     NaN  \n",
              "min        NaN    NaN    NaN     NaN  \n",
              "25%        NaN    NaN    NaN     NaN  \n",
              "50%        NaN    NaN    NaN     NaN  \n",
              "75%        NaN    NaN    NaN     NaN  \n",
              "max        NaN    NaN    NaN     NaN  \n",
              "\n",
              "[11 rows x 25 columns]"
            ]
          },
          "execution_count": 41,
          "metadata": {},
          "output_type": "execute_result"
        }
      ],
      "source": [
        "df.describe(include = 'all')"
      ]
    },
    {
      "cell_type": "markdown",
      "metadata": {
        "id": "quLL_QIXG4n_"
      },
      "source": [
        "## Saving the data"
      ]
    },
    {
      "cell_type": "code",
      "execution_count": 42,
      "metadata": {
        "id": "l0zAv0FfOng0"
      },
      "outputs": [],
      "source": [
        "df.to_csv('../data/crops_preprocessed_data.csv', index=False)"
      ]
    }
  ],
  "metadata": {
    "colab": {
      "authorship_tag": "ABX9TyPLdUHlI7x7MD5DZblx8dyG",
      "include_colab_link": true,
      "provenance": []
    },
    "kernelspec": {
      "display_name": "Python 3",
      "name": "python3"
    },
    "language_info": {
      "codemirror_mode": {
        "name": "ipython",
        "version": 3
      },
      "file_extension": ".py",
      "mimetype": "text/x-python",
      "name": "python",
      "nbconvert_exporter": "python",
      "pygments_lexer": "ipython3",
      "version": "3.10.8"
    }
  },
  "nbformat": 4,
  "nbformat_minor": 0
}
